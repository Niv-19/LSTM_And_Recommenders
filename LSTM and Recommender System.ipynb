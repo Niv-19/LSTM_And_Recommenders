{
 "cells": [
  {
   "cell_type": "markdown",
   "metadata": {},
   "source": [
    "# LSTM based Sentiment Prediction and Recommender"
   ]
  },
  {
   "cell_type": "markdown",
   "metadata": {},
   "source": [
    "## This notebook is divided into three parts as shown below:\n",
    "### 1. Recommenders- Collaborative Filtering (Unsupervised and Supervised KNN).\n",
    "### 2. LSTM Sentiment Prediction.\n",
    "### 3. Recommenders- Content-Based Recommender."
   ]
  },
  {
   "cell_type": "markdown",
   "metadata": {},
   "source": [
    "#### Import libraries"
   ]
  },
  {
   "cell_type": "code",
   "execution_count": 420,
   "metadata": {},
   "outputs": [],
   "source": [
    "import pandas as pd\n",
    "%matplotlib inline\n",
    "import numpy as np\n",
    "import pandas as pd\n",
    "import matplotlib.pyplot as plt\n",
    "from pandas import DataFrame \n",
    "import nltk\n",
    "\n",
    "from sklearn.neighbors import NearestNeighbors\n",
    "from sklearn.linear_model import LogisticRegression\n",
    "from sklearn import neighbors\n",
    "from scipy.spatial.distance import cosine\n",
    "from sklearn.metrics import classification_report\n",
    "from sklearn.metrics import accuracy_score,recall_score,precision_score\n",
    "from sklearn.feature_selection import SelectKBest\n",
    "from sklearn.feature_extraction.text import CountVectorizer, TfidfTransformer\n",
    "\n",
    "import re\n",
    "import string\n",
    "from wordcloud import WordCloud, STOPWORDS\n",
    "from sklearn.metrics import mean_squared_error\n",
    "from math import sqrt"
   ]
  },
  {
   "cell_type": "code",
   "execution_count": 3,
   "metadata": {},
   "outputs": [],
   "source": [
    "import warnings\n",
    "warnings.filterwarnings('ignore')"
   ]
  },
  {
   "cell_type": "markdown",
   "metadata": {},
   "source": [
    "# 1. Recommenders!! (Collaborative Filtering using KNN)"
   ]
  },
  {
   "cell_type": "code",
   "execution_count": 5,
   "metadata": {},
   "outputs": [],
   "source": [
    "#Taking 1st 500k data from Amazon data set for training and validation purposes\n",
    "data500=pd.read_json('500data.json',lines=True)"
   ]
  },
  {
   "cell_type": "code",
   "execution_count": 153,
   "metadata": {},
   "outputs": [],
   "source": [
    "#df2 = data500.pivot_table(values='overall',index='reviewerID',columns='asin')"
   ]
  },
  {
   "cell_type": "code",
   "execution_count": 278,
   "metadata": {},
   "outputs": [
    {
     "data": {
      "text/plain": [
       "Index(['reviewerID', 'asin', 'reviewerName', 'helpful', 'reviewText',\n",
       "       'overall', 'summary', 'unixReviewTime', 'reviewTime'],\n",
       "      dtype='object')"
      ]
     },
     "execution_count": 278,
     "metadata": {},
     "output_type": "execute_result"
    }
   ],
   "source": [
    "data500.columns"
   ]
  },
  {
   "cell_type": "code",
   "execution_count": 279,
   "metadata": {},
   "outputs": [
    {
     "data": {
      "text/plain": [
       "(500000, 9)"
      ]
     },
     "execution_count": 279,
     "metadata": {},
     "output_type": "execute_result"
    }
   ],
   "source": [
    "data500.shape"
   ]
  },
  {
   "cell_type": "code",
   "execution_count": 280,
   "metadata": {},
   "outputs": [
    {
     "name": "stdout",
     "output_type": "stream",
     "text": [
      "Number of unique products in the dataset:19839\n"
     ]
    }
   ],
   "source": [
    "print(f\"Number of unique products in the dataset:{len(data500.asin.unique())}\")"
   ]
  },
  {
   "cell_type": "code",
   "execution_count": 281,
   "metadata": {},
   "outputs": [
    {
     "name": "stdout",
     "output_type": "stream",
     "text": [
      "Number of unique users in the dataset:155870\n"
     ]
    }
   ],
   "source": [
    "print(f\"Number of unique users in the dataset:{len(data500.reviewerID.unique())}\")"
   ]
  },
  {
   "cell_type": "code",
   "execution_count": null,
   "metadata": {},
   "outputs": [],
   "source": []
  },
  {
   "cell_type": "code",
   "execution_count": 282,
   "metadata": {},
   "outputs": [],
   "source": [
    "count = data500.groupby(\"asin\", as_index=False).count()\n",
    "mean = data500.groupby(\"asin\", as_index=False).mean()\n",
    "dfMerged = pd.merge(data500, count, how='right', on=['asin'])"
   ]
  },
  {
   "cell_type": "code",
   "execution_count": 283,
   "metadata": {},
   "outputs": [
    {
     "data": {
      "text/html": [
       "<div>\n",
       "<style scoped>\n",
       "    .dataframe tbody tr th:only-of-type {\n",
       "        vertical-align: middle;\n",
       "    }\n",
       "\n",
       "    .dataframe tbody tr th {\n",
       "        vertical-align: top;\n",
       "    }\n",
       "\n",
       "    .dataframe thead th {\n",
       "        text-align: right;\n",
       "    }\n",
       "</style>\n",
       "<table border=\"1\" class=\"dataframe\">\n",
       "  <thead>\n",
       "    <tr style=\"text-align: right;\">\n",
       "      <th></th>\n",
       "      <th>asin</th>\n",
       "      <th>reviewerID</th>\n",
       "      <th>reviewerName</th>\n",
       "      <th>helpful</th>\n",
       "      <th>reviewText</th>\n",
       "      <th>overall</th>\n",
       "      <th>summary</th>\n",
       "      <th>unixReviewTime</th>\n",
       "      <th>reviewTime</th>\n",
       "    </tr>\n",
       "  </thead>\n",
       "  <tbody>\n",
       "    <tr>\n",
       "      <th>0</th>\n",
       "      <td>0528881469</td>\n",
       "      <td>5</td>\n",
       "      <td>5</td>\n",
       "      <td>5</td>\n",
       "      <td>5</td>\n",
       "      <td>5</td>\n",
       "      <td>5</td>\n",
       "      <td>5</td>\n",
       "      <td>5</td>\n",
       "    </tr>\n",
       "    <tr>\n",
       "      <th>1</th>\n",
       "      <td>0594451647</td>\n",
       "      <td>5</td>\n",
       "      <td>5</td>\n",
       "      <td>5</td>\n",
       "      <td>5</td>\n",
       "      <td>5</td>\n",
       "      <td>5</td>\n",
       "      <td>5</td>\n",
       "      <td>5</td>\n",
       "    </tr>\n",
       "    <tr>\n",
       "      <th>2</th>\n",
       "      <td>0594481813</td>\n",
       "      <td>8</td>\n",
       "      <td>8</td>\n",
       "      <td>8</td>\n",
       "      <td>8</td>\n",
       "      <td>8</td>\n",
       "      <td>8</td>\n",
       "      <td>8</td>\n",
       "      <td>8</td>\n",
       "    </tr>\n",
       "    <tr>\n",
       "      <th>3</th>\n",
       "      <td>0972683275</td>\n",
       "      <td>219</td>\n",
       "      <td>218</td>\n",
       "      <td>219</td>\n",
       "      <td>219</td>\n",
       "      <td>219</td>\n",
       "      <td>219</td>\n",
       "      <td>219</td>\n",
       "      <td>219</td>\n",
       "    </tr>\n",
       "    <tr>\n",
       "      <th>4</th>\n",
       "      <td>1400501466</td>\n",
       "      <td>43</td>\n",
       "      <td>43</td>\n",
       "      <td>43</td>\n",
       "      <td>43</td>\n",
       "      <td>43</td>\n",
       "      <td>43</td>\n",
       "      <td>43</td>\n",
       "      <td>43</td>\n",
       "    </tr>\n",
       "  </tbody>\n",
       "</table>\n",
       "</div>"
      ],
      "text/plain": [
       "         asin  reviewerID  reviewerName  helpful  reviewText  overall  \\\n",
       "0  0528881469           5             5        5           5        5   \n",
       "1  0594451647           5             5        5           5        5   \n",
       "2  0594481813           8             8        8           8        8   \n",
       "3  0972683275         219           218      219         219      219   \n",
       "4  1400501466          43            43       43          43       43   \n",
       "\n",
       "   summary  unixReviewTime  reviewTime  \n",
       "0        5               5           5  \n",
       "1        5               5           5  \n",
       "2        8               8           8  \n",
       "3      219             219         219  \n",
       "4       43              43          43  "
      ]
     },
     "execution_count": 283,
     "metadata": {},
     "output_type": "execute_result"
    }
   ],
   "source": [
    "count.head()"
   ]
  },
  {
   "cell_type": "code",
   "execution_count": 284,
   "metadata": {},
   "outputs": [
    {
     "data": {
      "text/plain": [
       "(19839, 9)"
      ]
     },
     "execution_count": 284,
     "metadata": {},
     "output_type": "execute_result"
    }
   ],
   "source": [
    "count.shape"
   ]
  },
  {
   "cell_type": "code",
   "execution_count": 285,
   "metadata": {},
   "outputs": [
    {
     "data": {
      "text/html": [
       "<div>\n",
       "<style scoped>\n",
       "    .dataframe tbody tr th:only-of-type {\n",
       "        vertical-align: middle;\n",
       "    }\n",
       "\n",
       "    .dataframe tbody tr th {\n",
       "        vertical-align: top;\n",
       "    }\n",
       "\n",
       "    .dataframe thead th {\n",
       "        text-align: right;\n",
       "    }\n",
       "</style>\n",
       "<table border=\"1\" class=\"dataframe\">\n",
       "  <thead>\n",
       "    <tr style=\"text-align: right;\">\n",
       "      <th></th>\n",
       "      <th>asin</th>\n",
       "      <th>overall</th>\n",
       "      <th>unixReviewTime</th>\n",
       "    </tr>\n",
       "  </thead>\n",
       "  <tbody>\n",
       "    <tr>\n",
       "      <th>0</th>\n",
       "      <td>0528881469</td>\n",
       "      <td>2.400000</td>\n",
       "      <td>1.310515e+09</td>\n",
       "    </tr>\n",
       "    <tr>\n",
       "      <th>1</th>\n",
       "      <td>0594451647</td>\n",
       "      <td>4.200000</td>\n",
       "      <td>1.396328e+09</td>\n",
       "    </tr>\n",
       "    <tr>\n",
       "      <th>2</th>\n",
       "      <td>0594481813</td>\n",
       "      <td>4.000000</td>\n",
       "      <td>1.382789e+09</td>\n",
       "    </tr>\n",
       "    <tr>\n",
       "      <th>3</th>\n",
       "      <td>0972683275</td>\n",
       "      <td>4.461187</td>\n",
       "      <td>1.354240e+09</td>\n",
       "    </tr>\n",
       "    <tr>\n",
       "      <th>4</th>\n",
       "      <td>1400501466</td>\n",
       "      <td>3.953488</td>\n",
       "      <td>1.352373e+09</td>\n",
       "    </tr>\n",
       "  </tbody>\n",
       "</table>\n",
       "</div>"
      ],
      "text/plain": [
       "         asin   overall  unixReviewTime\n",
       "0  0528881469  2.400000    1.310515e+09\n",
       "1  0594451647  4.200000    1.396328e+09\n",
       "2  0594481813  4.000000    1.382789e+09\n",
       "3  0972683275  4.461187    1.354240e+09\n",
       "4  1400501466  3.953488    1.352373e+09"
      ]
     },
     "execution_count": 285,
     "metadata": {},
     "output_type": "execute_result"
    }
   ],
   "source": [
    "mean.head()"
   ]
  },
  {
   "cell_type": "code",
   "execution_count": 286,
   "metadata": {},
   "outputs": [
    {
     "data": {
      "text/plain": [
       "(19839, 3)"
      ]
     },
     "execution_count": 286,
     "metadata": {},
     "output_type": "execute_result"
    }
   ],
   "source": [
    "mean.shape"
   ]
  },
  {
   "cell_type": "code",
   "execution_count": 287,
   "metadata": {},
   "outputs": [],
   "source": [
    "#mean=mean.rename(columns={'asin': 'productID'})"
   ]
  },
  {
   "cell_type": "code",
   "execution_count": 288,
   "metadata": {},
   "outputs": [
    {
     "data": {
      "text/plain": [
       "(500000, 17)"
      ]
     },
     "execution_count": 288,
     "metadata": {},
     "output_type": "execute_result"
    }
   ],
   "source": [
    "dfMerged.shape"
   ]
  },
  {
   "cell_type": "code",
   "execution_count": 289,
   "metadata": {},
   "outputs": [
    {
     "data": {
      "text/html": [
       "<div>\n",
       "<style scoped>\n",
       "    .dataframe tbody tr th:only-of-type {\n",
       "        vertical-align: middle;\n",
       "    }\n",
       "\n",
       "    .dataframe tbody tr th {\n",
       "        vertical-align: top;\n",
       "    }\n",
       "\n",
       "    .dataframe thead th {\n",
       "        text-align: right;\n",
       "    }\n",
       "</style>\n",
       "<table border=\"1\" class=\"dataframe\">\n",
       "  <thead>\n",
       "    <tr style=\"text-align: right;\">\n",
       "      <th></th>\n",
       "      <th>reviewerID_x</th>\n",
       "      <th>asin</th>\n",
       "      <th>reviewerName_x</th>\n",
       "      <th>helpful_x</th>\n",
       "      <th>reviewText_x</th>\n",
       "      <th>overall_x</th>\n",
       "      <th>summary_x</th>\n",
       "      <th>unixReviewTime_x</th>\n",
       "      <th>reviewTime_x</th>\n",
       "      <th>reviewerID_y</th>\n",
       "      <th>reviewerName_y</th>\n",
       "      <th>helpful_y</th>\n",
       "      <th>reviewText_y</th>\n",
       "      <th>overall_y</th>\n",
       "      <th>summary_y</th>\n",
       "      <th>unixReviewTime_y</th>\n",
       "      <th>reviewTime_y</th>\n",
       "    </tr>\n",
       "  </thead>\n",
       "  <tbody>\n",
       "    <tr>\n",
       "      <th>0</th>\n",
       "      <td>AO94DHGC771SJ</td>\n",
       "      <td>0528881469</td>\n",
       "      <td>amazdnu</td>\n",
       "      <td>[0, 0]</td>\n",
       "      <td>We got this GPS for my husband who is an (OTR)...</td>\n",
       "      <td>5</td>\n",
       "      <td>Gotta have GPS!</td>\n",
       "      <td>1370131200</td>\n",
       "      <td>06 2, 2013</td>\n",
       "      <td>5</td>\n",
       "      <td>5</td>\n",
       "      <td>5</td>\n",
       "      <td>5</td>\n",
       "      <td>5</td>\n",
       "      <td>5</td>\n",
       "      <td>5</td>\n",
       "      <td>5</td>\n",
       "    </tr>\n",
       "    <tr>\n",
       "      <th>1</th>\n",
       "      <td>AMO214LNFCEI4</td>\n",
       "      <td>0528881469</td>\n",
       "      <td>Amazon Customer</td>\n",
       "      <td>[12, 15]</td>\n",
       "      <td>I'm a professional OTR truck driver, and I bou...</td>\n",
       "      <td>1</td>\n",
       "      <td>Very Disappointed</td>\n",
       "      <td>1290643200</td>\n",
       "      <td>11 25, 2010</td>\n",
       "      <td>5</td>\n",
       "      <td>5</td>\n",
       "      <td>5</td>\n",
       "      <td>5</td>\n",
       "      <td>5</td>\n",
       "      <td>5</td>\n",
       "      <td>5</td>\n",
       "      <td>5</td>\n",
       "    </tr>\n",
       "    <tr>\n",
       "      <th>2</th>\n",
       "      <td>A3N7T0DY83Y4IG</td>\n",
       "      <td>0528881469</td>\n",
       "      <td>C. A. Freeman</td>\n",
       "      <td>[43, 45]</td>\n",
       "      <td>Well, what can I say.  I've had this unit in m...</td>\n",
       "      <td>3</td>\n",
       "      <td>1st impression</td>\n",
       "      <td>1283990400</td>\n",
       "      <td>09 9, 2010</td>\n",
       "      <td>5</td>\n",
       "      <td>5</td>\n",
       "      <td>5</td>\n",
       "      <td>5</td>\n",
       "      <td>5</td>\n",
       "      <td>5</td>\n",
       "      <td>5</td>\n",
       "      <td>5</td>\n",
       "    </tr>\n",
       "    <tr>\n",
       "      <th>3</th>\n",
       "      <td>A1H8PY3QHMQQA0</td>\n",
       "      <td>0528881469</td>\n",
       "      <td>Dave M. Shaw \"mack dave\"</td>\n",
       "      <td>[9, 10]</td>\n",
       "      <td>Not going to write a long review, even thought...</td>\n",
       "      <td>2</td>\n",
       "      <td>Great grafics, POOR GPS</td>\n",
       "      <td>1290556800</td>\n",
       "      <td>11 24, 2010</td>\n",
       "      <td>5</td>\n",
       "      <td>5</td>\n",
       "      <td>5</td>\n",
       "      <td>5</td>\n",
       "      <td>5</td>\n",
       "      <td>5</td>\n",
       "      <td>5</td>\n",
       "      <td>5</td>\n",
       "    </tr>\n",
       "    <tr>\n",
       "      <th>4</th>\n",
       "      <td>A24EV6RXELQZ63</td>\n",
       "      <td>0528881469</td>\n",
       "      <td>Wayne Smith</td>\n",
       "      <td>[0, 0]</td>\n",
       "      <td>I've had mine for a year and here's what we go...</td>\n",
       "      <td>1</td>\n",
       "      <td>Major issues, only excuses for support</td>\n",
       "      <td>1317254400</td>\n",
       "      <td>09 29, 2011</td>\n",
       "      <td>5</td>\n",
       "      <td>5</td>\n",
       "      <td>5</td>\n",
       "      <td>5</td>\n",
       "      <td>5</td>\n",
       "      <td>5</td>\n",
       "      <td>5</td>\n",
       "      <td>5</td>\n",
       "    </tr>\n",
       "  </tbody>\n",
       "</table>\n",
       "</div>"
      ],
      "text/plain": [
       "     reviewerID_x        asin            reviewerName_x helpful_x  \\\n",
       "0   AO94DHGC771SJ  0528881469                   amazdnu    [0, 0]   \n",
       "1   AMO214LNFCEI4  0528881469           Amazon Customer  [12, 15]   \n",
       "2  A3N7T0DY83Y4IG  0528881469             C. A. Freeman  [43, 45]   \n",
       "3  A1H8PY3QHMQQA0  0528881469  Dave M. Shaw \"mack dave\"   [9, 10]   \n",
       "4  A24EV6RXELQZ63  0528881469               Wayne Smith    [0, 0]   \n",
       "\n",
       "                                        reviewText_x  overall_x  \\\n",
       "0  We got this GPS for my husband who is an (OTR)...          5   \n",
       "1  I'm a professional OTR truck driver, and I bou...          1   \n",
       "2  Well, what can I say.  I've had this unit in m...          3   \n",
       "3  Not going to write a long review, even thought...          2   \n",
       "4  I've had mine for a year and here's what we go...          1   \n",
       "\n",
       "                                summary_x  unixReviewTime_x reviewTime_x  \\\n",
       "0                         Gotta have GPS!        1370131200   06 2, 2013   \n",
       "1                       Very Disappointed        1290643200  11 25, 2010   \n",
       "2                          1st impression        1283990400   09 9, 2010   \n",
       "3                 Great grafics, POOR GPS        1290556800  11 24, 2010   \n",
       "4  Major issues, only excuses for support        1317254400  09 29, 2011   \n",
       "\n",
       "   reviewerID_y  reviewerName_y  helpful_y  reviewText_y  overall_y  \\\n",
       "0             5               5          5             5          5   \n",
       "1             5               5          5             5          5   \n",
       "2             5               5          5             5          5   \n",
       "3             5               5          5             5          5   \n",
       "4             5               5          5             5          5   \n",
       "\n",
       "   summary_y  unixReviewTime_y  reviewTime_y  \n",
       "0          5                 5             5  \n",
       "1          5                 5             5  \n",
       "2          5                 5             5  \n",
       "3          5                 5             5  \n",
       "4          5                 5             5  "
      ]
     },
     "execution_count": 289,
     "metadata": {},
     "output_type": "execute_result"
    }
   ],
   "source": [
    "dfMerged.head()"
   ]
  },
  {
   "cell_type": "code",
   "execution_count": 290,
   "metadata": {},
   "outputs": [],
   "source": [
    "#rename column\n",
    "dfMerged[\"totalReviewers\"] = dfMerged[\"reviewerID_y\"]\n",
    "dfMerged[\"overallScore\"] = dfMerged[\"overall_x\"]\n",
    "dfMerged[\"summaryReview\"] = dfMerged[\"summary_x\"]\n",
    "dfMerged[\"UserID\"]=dfMerged['reviewerName_x']\n",
    "dfNew = dfMerged[['asin','UserID','summaryReview','overallScore',\"totalReviewers\"]]\n"
   ]
  },
  {
   "cell_type": "code",
   "execution_count": 235,
   "metadata": {},
   "outputs": [],
   "source": [
    "#dfNew=dfNew.rename(columns={'asin': 'productID'})"
   ]
  },
  {
   "cell_type": "code",
   "execution_count": 291,
   "metadata": {},
   "outputs": [
    {
     "data": {
      "text/html": [
       "<div>\n",
       "<style scoped>\n",
       "    .dataframe tbody tr th:only-of-type {\n",
       "        vertical-align: middle;\n",
       "    }\n",
       "\n",
       "    .dataframe tbody tr th {\n",
       "        vertical-align: top;\n",
       "    }\n",
       "\n",
       "    .dataframe thead th {\n",
       "        text-align: right;\n",
       "    }\n",
       "</style>\n",
       "<table border=\"1\" class=\"dataframe\">\n",
       "  <thead>\n",
       "    <tr style=\"text-align: right;\">\n",
       "      <th></th>\n",
       "      <th>asin</th>\n",
       "      <th>UserID</th>\n",
       "      <th>summaryReview</th>\n",
       "      <th>overallScore</th>\n",
       "      <th>totalReviewers</th>\n",
       "    </tr>\n",
       "  </thead>\n",
       "  <tbody>\n",
       "    <tr>\n",
       "      <th>0</th>\n",
       "      <td>0528881469</td>\n",
       "      <td>amazdnu</td>\n",
       "      <td>Gotta have GPS!</td>\n",
       "      <td>5</td>\n",
       "      <td>5</td>\n",
       "    </tr>\n",
       "    <tr>\n",
       "      <th>1</th>\n",
       "      <td>0528881469</td>\n",
       "      <td>Amazon Customer</td>\n",
       "      <td>Very Disappointed</td>\n",
       "      <td>1</td>\n",
       "      <td>5</td>\n",
       "    </tr>\n",
       "    <tr>\n",
       "      <th>2</th>\n",
       "      <td>0528881469</td>\n",
       "      <td>C. A. Freeman</td>\n",
       "      <td>1st impression</td>\n",
       "      <td>3</td>\n",
       "      <td>5</td>\n",
       "    </tr>\n",
       "    <tr>\n",
       "      <th>3</th>\n",
       "      <td>0528881469</td>\n",
       "      <td>Dave M. Shaw \"mack dave\"</td>\n",
       "      <td>Great grafics, POOR GPS</td>\n",
       "      <td>2</td>\n",
       "      <td>5</td>\n",
       "    </tr>\n",
       "    <tr>\n",
       "      <th>4</th>\n",
       "      <td>0528881469</td>\n",
       "      <td>Wayne Smith</td>\n",
       "      <td>Major issues, only excuses for support</td>\n",
       "      <td>1</td>\n",
       "      <td>5</td>\n",
       "    </tr>\n",
       "  </tbody>\n",
       "</table>\n",
       "</div>"
      ],
      "text/plain": [
       "         asin                    UserID  \\\n",
       "0  0528881469                   amazdnu   \n",
       "1  0528881469           Amazon Customer   \n",
       "2  0528881469             C. A. Freeman   \n",
       "3  0528881469  Dave M. Shaw \"mack dave\"   \n",
       "4  0528881469               Wayne Smith   \n",
       "\n",
       "                            summaryReview  overallScore  totalReviewers  \n",
       "0                         Gotta have GPS!             5               5  \n",
       "1                       Very Disappointed             1               5  \n",
       "2                          1st impression             3               5  \n",
       "3                 Great grafics, POOR GPS             2               5  \n",
       "4  Major issues, only excuses for support             1               5  "
      ]
     },
     "execution_count": 291,
     "metadata": {},
     "output_type": "execute_result"
    }
   ],
   "source": [
    "dfNew.head()"
   ]
  },
  {
   "cell_type": "code",
   "execution_count": 292,
   "metadata": {},
   "outputs": [
    {
     "name": "stdout",
     "output_type": "stream",
     "text": [
      "<class 'pandas.core.frame.DataFrame'>\n",
      "Int64Index: 500000 entries, 0 to 499999\n",
      "Data columns (total 5 columns):\n",
      " #   Column          Non-Null Count   Dtype \n",
      "---  ------          --------------   ----- \n",
      " 0   asin            500000 non-null  object\n",
      " 1   UserID          495825 non-null  object\n",
      " 2   summaryReview   500000 non-null  object\n",
      " 3   overallScore    500000 non-null  int64 \n",
      " 4   totalReviewers  500000 non-null  int64 \n",
      "dtypes: int64(2), object(3)\n",
      "memory usage: 22.9+ MB\n"
     ]
    }
   ],
   "source": [
    "dfNew.info()"
   ]
  },
  {
   "cell_type": "code",
   "execution_count": 293,
   "metadata": {},
   "outputs": [
    {
     "data": {
      "text/plain": [
       "(500000, 5)"
      ]
     },
     "execution_count": 293,
     "metadata": {},
     "output_type": "execute_result"
    }
   ],
   "source": [
    "dfNew.shape"
   ]
  },
  {
   "cell_type": "code",
   "execution_count": 299,
   "metadata": {},
   "outputs": [],
   "source": [
    "dfNew=dfNew[dfNew['totalReviewers']>=10]"
   ]
  },
  {
   "cell_type": "code",
   "execution_count": 300,
   "metadata": {},
   "outputs": [],
   "source": [
    "dfNew=dfNew.rename(columns={'asin':'productID','overallScore':'rating'})"
   ]
  },
  {
   "cell_type": "code",
   "execution_count": 301,
   "metadata": {},
   "outputs": [
    {
     "data": {
      "text/html": [
       "<div>\n",
       "<style scoped>\n",
       "    .dataframe tbody tr th:only-of-type {\n",
       "        vertical-align: middle;\n",
       "    }\n",
       "\n",
       "    .dataframe tbody tr th {\n",
       "        vertical-align: top;\n",
       "    }\n",
       "\n",
       "    .dataframe thead th {\n",
       "        text-align: right;\n",
       "    }\n",
       "</style>\n",
       "<table border=\"1\" class=\"dataframe\">\n",
       "  <thead>\n",
       "    <tr style=\"text-align: right;\">\n",
       "      <th></th>\n",
       "      <th>productID</th>\n",
       "      <th>UserID</th>\n",
       "      <th>summaryReview</th>\n",
       "      <th>rating</th>\n",
       "      <th>totalReviewers</th>\n",
       "    </tr>\n",
       "  </thead>\n",
       "  <tbody>\n",
       "    <tr>\n",
       "      <th>18</th>\n",
       "      <td>0972683275</td>\n",
       "      <td>NaN</td>\n",
       "      <td>Excelant mount for Tv. Would buy more if I nee...</td>\n",
       "      <td>5</td>\n",
       "      <td>219</td>\n",
       "    </tr>\n",
       "    <tr>\n",
       "      <th>19</th>\n",
       "      <td>0972683275</td>\n",
       "      <td>2Cents!</td>\n",
       "      <td>Perfect</td>\n",
       "      <td>5</td>\n",
       "      <td>219</td>\n",
       "    </tr>\n",
       "    <tr>\n",
       "      <th>20</th>\n",
       "      <td>0972683275</td>\n",
       "      <td>AGW</td>\n",
       "      <td>32 In TV Mount</td>\n",
       "      <td>5</td>\n",
       "      <td>219</td>\n",
       "    </tr>\n",
       "    <tr>\n",
       "      <th>21</th>\n",
       "      <td>0972683275</td>\n",
       "      <td>ahoffoss</td>\n",
       "      <td>Pretty simple, but definitely good!</td>\n",
       "      <td>4</td>\n",
       "      <td>219</td>\n",
       "    </tr>\n",
       "    <tr>\n",
       "      <th>22</th>\n",
       "      <td>0972683275</td>\n",
       "      <td>Alberto Dieguez \"premiere purchaser of random...</td>\n",
       "      <td>Fairly good wall mount</td>\n",
       "      <td>4</td>\n",
       "      <td>219</td>\n",
       "    </tr>\n",
       "  </tbody>\n",
       "</table>\n",
       "</div>"
      ],
      "text/plain": [
       "     productID                                            UserID  \\\n",
       "18  0972683275                                               NaN   \n",
       "19  0972683275                                           2Cents!   \n",
       "20  0972683275                                               AGW   \n",
       "21  0972683275                                          ahoffoss   \n",
       "22  0972683275  Alberto Dieguez \"premiere purchaser of random...   \n",
       "\n",
       "                                        summaryReview  rating  totalReviewers  \n",
       "18  Excelant mount for Tv. Would buy more if I nee...       5             219  \n",
       "19                                            Perfect       5             219  \n",
       "20                                     32 In TV Mount       5             219  \n",
       "21                Pretty simple, but definitely good!       4             219  \n",
       "22                             Fairly good wall mount       4             219  "
      ]
     },
     "execution_count": 301,
     "metadata": {},
     "output_type": "execute_result"
    }
   ],
   "source": [
    "dfNew.head()"
   ]
  },
  {
   "cell_type": "code",
   "execution_count": 302,
   "metadata": {},
   "outputs": [
    {
     "data": {
      "text/plain": [
       "10787"
      ]
     },
     "execution_count": 302,
     "metadata": {},
     "output_type": "execute_result"
    }
   ],
   "source": [
    "len(dfNew.productID.unique())"
   ]
  },
  {
   "cell_type": "code",
   "execution_count": 303,
   "metadata": {},
   "outputs": [],
   "source": [
    "sim_table=dfNew.pivot_table('rating',index='productID',columns='UserID').fillna(0)"
   ]
  },
  {
   "cell_type": "code",
   "execution_count": 304,
   "metadata": {},
   "outputs": [
    {
     "data": {
      "text/html": [
       "<div>\n",
       "<style scoped>\n",
       "    .dataframe tbody tr th:only-of-type {\n",
       "        vertical-align: middle;\n",
       "    }\n",
       "\n",
       "    .dataframe tbody tr th {\n",
       "        vertical-align: top;\n",
       "    }\n",
       "\n",
       "    .dataframe thead th {\n",
       "        text-align: right;\n",
       "    }\n",
       "</style>\n",
       "<table border=\"1\" class=\"dataframe\">\n",
       "  <thead>\n",
       "    <tr style=\"text-align: right;\">\n",
       "      <th>UserID</th>\n",
       "      <th></th>\n",
       "      <th>\u001a</th>\n",
       "      <th>\u001a\u001a\u001a \"Top 100 Amazon Reviewer\"</th>\n",
       "      <th>Leah  \"Leah\"</th>\n",
       "      <th>! MR. KNOW IT ALL  ;-b \"DR SHOCK\"</th>\n",
       "      <th>!!!</th>\n",
       "      <th>!@#$%^&amp;amp;*()_+=-</th>\n",
       "      <th>\"The Woj\"</th>\n",
       "      <th>\"Van\"</th>\n",
       "      <th>\"amazonreader\"</th>\n",
       "      <th>...</th>\n",
       "      <th>~:TLH:~</th>\n",
       "      <th>~Astro~</th>\n",
       "      <th>~AudioBookaHolic~ \"Issy\"</th>\n",
       "      <th>~Kimber~</th>\n",
       "      <th>~Miss~</th>\n",
       "      <th>~R~ \"Money Hunter\"</th>\n",
       "      <th>~Shawn~</th>\n",
       "      <th>~joy~</th>\n",
       "      <th>~purplemoon~ \"The Quiet Corner\"</th>\n",
       "      <th>~~~</th>\n",
       "    </tr>\n",
       "    <tr>\n",
       "      <th>productID</th>\n",
       "      <th></th>\n",
       "      <th></th>\n",
       "      <th></th>\n",
       "      <th></th>\n",
       "      <th></th>\n",
       "      <th></th>\n",
       "      <th></th>\n",
       "      <th></th>\n",
       "      <th></th>\n",
       "      <th></th>\n",
       "      <th></th>\n",
       "      <th></th>\n",
       "      <th></th>\n",
       "      <th></th>\n",
       "      <th></th>\n",
       "      <th></th>\n",
       "      <th></th>\n",
       "      <th></th>\n",
       "      <th></th>\n",
       "      <th></th>\n",
       "      <th></th>\n",
       "    </tr>\n",
       "  </thead>\n",
       "  <tbody>\n",
       "    <tr>\n",
       "      <th>0972683275</th>\n",
       "      <td>0.0</td>\n",
       "      <td>0.0</td>\n",
       "      <td>0.0</td>\n",
       "      <td>0.0</td>\n",
       "      <td>0.0</td>\n",
       "      <td>0.0</td>\n",
       "      <td>0.0</td>\n",
       "      <td>0.0</td>\n",
       "      <td>0.0</td>\n",
       "      <td>0.0</td>\n",
       "      <td>...</td>\n",
       "      <td>0.0</td>\n",
       "      <td>0.0</td>\n",
       "      <td>0.0</td>\n",
       "      <td>0.0</td>\n",
       "      <td>0.0</td>\n",
       "      <td>0.0</td>\n",
       "      <td>0.0</td>\n",
       "      <td>0.0</td>\n",
       "      <td>0.0</td>\n",
       "      <td>0.0</td>\n",
       "    </tr>\n",
       "    <tr>\n",
       "      <th>1400501466</th>\n",
       "      <td>0.0</td>\n",
       "      <td>0.0</td>\n",
       "      <td>0.0</td>\n",
       "      <td>0.0</td>\n",
       "      <td>0.0</td>\n",
       "      <td>0.0</td>\n",
       "      <td>0.0</td>\n",
       "      <td>0.0</td>\n",
       "      <td>0.0</td>\n",
       "      <td>0.0</td>\n",
       "      <td>...</td>\n",
       "      <td>0.0</td>\n",
       "      <td>0.0</td>\n",
       "      <td>0.0</td>\n",
       "      <td>0.0</td>\n",
       "      <td>0.0</td>\n",
       "      <td>0.0</td>\n",
       "      <td>0.0</td>\n",
       "      <td>0.0</td>\n",
       "      <td>0.0</td>\n",
       "      <td>0.0</td>\n",
       "    </tr>\n",
       "    <tr>\n",
       "      <th>1400501520</th>\n",
       "      <td>0.0</td>\n",
       "      <td>0.0</td>\n",
       "      <td>0.0</td>\n",
       "      <td>0.0</td>\n",
       "      <td>0.0</td>\n",
       "      <td>0.0</td>\n",
       "      <td>0.0</td>\n",
       "      <td>0.0</td>\n",
       "      <td>0.0</td>\n",
       "      <td>0.0</td>\n",
       "      <td>...</td>\n",
       "      <td>0.0</td>\n",
       "      <td>0.0</td>\n",
       "      <td>0.0</td>\n",
       "      <td>0.0</td>\n",
       "      <td>0.0</td>\n",
       "      <td>0.0</td>\n",
       "      <td>0.0</td>\n",
       "      <td>0.0</td>\n",
       "      <td>0.0</td>\n",
       "      <td>0.0</td>\n",
       "    </tr>\n",
       "    <tr>\n",
       "      <th>1400501776</th>\n",
       "      <td>0.0</td>\n",
       "      <td>0.0</td>\n",
       "      <td>0.0</td>\n",
       "      <td>0.0</td>\n",
       "      <td>0.0</td>\n",
       "      <td>0.0</td>\n",
       "      <td>0.0</td>\n",
       "      <td>0.0</td>\n",
       "      <td>0.0</td>\n",
       "      <td>0.0</td>\n",
       "      <td>...</td>\n",
       "      <td>0.0</td>\n",
       "      <td>0.0</td>\n",
       "      <td>0.0</td>\n",
       "      <td>0.0</td>\n",
       "      <td>0.0</td>\n",
       "      <td>0.0</td>\n",
       "      <td>0.0</td>\n",
       "      <td>0.0</td>\n",
       "      <td>0.0</td>\n",
       "      <td>0.0</td>\n",
       "    </tr>\n",
       "    <tr>\n",
       "      <th>1400532620</th>\n",
       "      <td>0.0</td>\n",
       "      <td>0.0</td>\n",
       "      <td>0.0</td>\n",
       "      <td>0.0</td>\n",
       "      <td>0.0</td>\n",
       "      <td>0.0</td>\n",
       "      <td>0.0</td>\n",
       "      <td>0.0</td>\n",
       "      <td>0.0</td>\n",
       "      <td>0.0</td>\n",
       "      <td>...</td>\n",
       "      <td>0.0</td>\n",
       "      <td>0.0</td>\n",
       "      <td>0.0</td>\n",
       "      <td>0.0</td>\n",
       "      <td>0.0</td>\n",
       "      <td>0.0</td>\n",
       "      <td>0.0</td>\n",
       "      <td>0.0</td>\n",
       "      <td>0.0</td>\n",
       "      <td>0.0</td>\n",
       "    </tr>\n",
       "  </tbody>\n",
       "</table>\n",
       "<p>5 rows × 129499 columns</p>\n",
       "</div>"
      ],
      "text/plain": [
       "UserID             \u001a  \u001a\u001a\u001a \"Top 100 Amazon Reviewer\"   Leah  \"Leah\"  \\\n",
       "productID                                                            \n",
       "0972683275  0.0  0.0                            0.0            0.0   \n",
       "1400501466  0.0  0.0                            0.0            0.0   \n",
       "1400501520  0.0  0.0                            0.0            0.0   \n",
       "1400501776  0.0  0.0                            0.0            0.0   \n",
       "1400532620  0.0  0.0                            0.0            0.0   \n",
       "\n",
       "UserID      ! MR. KNOW IT ALL  ;-b \"DR SHOCK\"  !!!  !@#$%^&amp;*()_+=-  \\\n",
       "productID                                                                \n",
       "0972683275                                0.0  0.0                 0.0   \n",
       "1400501466                                0.0  0.0                 0.0   \n",
       "1400501520                                0.0  0.0                 0.0   \n",
       "1400501776                                0.0  0.0                 0.0   \n",
       "1400532620                                0.0  0.0                 0.0   \n",
       "\n",
       "UserID      \"The Woj\"  \"Van\"  \"amazonreader\"  ...  ~:TLH:~  ~Astro~  \\\n",
       "productID                                     ...                     \n",
       "0972683275        0.0    0.0             0.0  ...      0.0      0.0   \n",
       "1400501466        0.0    0.0             0.0  ...      0.0      0.0   \n",
       "1400501520        0.0    0.0             0.0  ...      0.0      0.0   \n",
       "1400501776        0.0    0.0             0.0  ...      0.0      0.0   \n",
       "1400532620        0.0    0.0             0.0  ...      0.0      0.0   \n",
       "\n",
       "UserID      ~AudioBookaHolic~ \"Issy\"  ~Kimber~  ~Miss~  ~R~ \"Money Hunter\"  \\\n",
       "productID                                                                    \n",
       "0972683275                       0.0       0.0     0.0                 0.0   \n",
       "1400501466                       0.0       0.0     0.0                 0.0   \n",
       "1400501520                       0.0       0.0     0.0                 0.0   \n",
       "1400501776                       0.0       0.0     0.0                 0.0   \n",
       "1400532620                       0.0       0.0     0.0                 0.0   \n",
       "\n",
       "UserID      ~Shawn~  ~joy~  ~purplemoon~ \"The Quiet Corner\"  ~~~  \n",
       "productID                                                         \n",
       "0972683275      0.0    0.0                              0.0  0.0  \n",
       "1400501466      0.0    0.0                              0.0  0.0  \n",
       "1400501520      0.0    0.0                              0.0  0.0  \n",
       "1400501776      0.0    0.0                              0.0  0.0  \n",
       "1400532620      0.0    0.0                              0.0  0.0  \n",
       "\n",
       "[5 rows x 129499 columns]"
      ]
     },
     "execution_count": 304,
     "metadata": {},
     "output_type": "execute_result"
    }
   ],
   "source": [
    "sim_table.head()"
   ]
  },
  {
   "cell_type": "code",
   "execution_count": 305,
   "metadata": {},
   "outputs": [
    {
     "data": {
      "text/plain": [
       "(10786, 129499)"
      ]
     },
     "execution_count": 305,
     "metadata": {},
     "output_type": "execute_result"
    }
   ],
   "source": [
    "sim_table.shape"
   ]
  },
  {
   "cell_type": "code",
   "execution_count": 120,
   "metadata": {},
   "outputs": [],
   "source": [
    "from scipy.sparse import csr_matrix"
   ]
  },
  {
   "cell_type": "code",
   "execution_count": 121,
   "metadata": {},
   "outputs": [],
   "source": [
    "matrix=csr_matrix(sim_table.values)"
   ]
  },
  {
   "cell_type": "code",
   "execution_count": 122,
   "metadata": {},
   "outputs": [],
   "source": [
    "from sklearn.neighbors import NearestNeighbors"
   ]
  },
  {
   "cell_type": "code",
   "execution_count": 123,
   "metadata": {},
   "outputs": [
    {
     "data": {
      "text/plain": [
       "NearestNeighbors(algorithm='brute', leaf_size=30, metric='cosine',\n",
       "                 metric_params=None, n_jobs=None, n_neighbors=5, p=2,\n",
       "                 radius=1.0)"
      ]
     },
     "execution_count": 123,
     "metadata": {},
     "output_type": "execute_result"
    }
   ],
   "source": [
    "model_knn= NearestNeighbors(metric='cosine', algorithm='brute')\n",
    "model_knn.fit(matrix)"
   ]
  },
  {
   "cell_type": "code",
   "execution_count": 306,
   "metadata": {},
   "outputs": [
    {
     "name": "stdout",
     "output_type": "stream",
     "text": [
      "2806\n"
     ]
    }
   ],
   "source": [
    "value=sim_table.shape[0]\n",
    "#product=input(\"Enter product ID\") as input from user\n",
    "query=np.random.choice(value)\n",
    "print(query)\n",
    "distances,indices=model_knn.kneighbors(sim_table.iloc[query,:].values.reshape(1,-1), n_neighbors=6)"
   ]
  },
  {
   "cell_type": "code",
   "execution_count": 307,
   "metadata": {},
   "outputs": [
    {
     "name": "stdout",
     "output_type": "stream",
     "text": [
      "Recommended for B000669BVW: \n",
      "\n",
      "1: B00005N5X7, with distance of 0.8888888888888888\n",
      "2: B0001GMITO, with distance of 0.9040941103919273\n",
      "3: B00001OXQ9, with distance of 0.9072641859875571\n",
      "4: B001415FH2, with distance of 0.9149482728200286\n",
      "5: B0000AI0NO, with distance of 0.9154966455727677\n"
     ]
    }
   ],
   "source": [
    "dist=[]\n",
    "for i in range(0,len(distances.flatten())):\n",
    "    if i==0:\n",
    "        print(\"Recommended for {}: \\n\".format(sim_table.index[query]))\n",
    "    else:\n",
    "        dist.append(distances.flatten()[i])\n",
    "        print(\"{}: {}, with distance of {}\".format(i,sim_table.index[indices.flatten()[i]],distances.flatten()[i]) )"
   ]
  },
  {
   "cell_type": "code",
   "execution_count": 126,
   "metadata": {},
   "outputs": [],
   "source": [
    "import matplotlib.pyplot as plt"
   ]
  },
  {
   "cell_type": "code",
   "execution_count": 308,
   "metadata": {},
   "outputs": [
    {
     "data": {
      "text/plain": [
       "Text(0.5, 1.0, \"Plot between Distance from 'product of interest' and recommended product\")"
      ]
     },
     "execution_count": 308,
     "metadata": {},
     "output_type": "execute_result"
    },
    {
     "data": {
      "image/png": "[encoded data removed]",
      "text/plain": [
       "<Figure size 432x288 with 1 Axes>"
      ]
     },
     "metadata": {
      "needs_background": "light"
     },
     "output_type": "display_data"
    }
   ],
   "source": [
    "plt.plot(dist)\n",
    "plt.ylabel('Distance')\n",
    "plt.xlabel('Products Recommended Rank')\n",
    "plt.title(\"Plot between Distance from 'product of interest' and recommended product\")"
   ]
  },
  {
   "cell_type": "markdown",
   "metadata": {},
   "source": [
    "###  Recommender Performance Testing using KNN supervised technique"
   ]
  },
  {
   "cell_type": "code",
   "execution_count": 317,
   "metadata": {},
   "outputs": [],
   "source": [
    "dfMerged = dfMerged.sort_values(by='totalReviewers', ascending=False)\n",
    "dfCount = dfMerged[dfMerged.totalReviewers >=10]"
   ]
  },
  {
   "cell_type": "code",
   "execution_count": 318,
   "metadata": {},
   "outputs": [
    {
     "data": {
      "text/html": [
       "<div>\n",
       "<style scoped>\n",
       "    .dataframe tbody tr th:only-of-type {\n",
       "        vertical-align: middle;\n",
       "    }\n",
       "\n",
       "    .dataframe tbody tr th {\n",
       "        vertical-align: top;\n",
       "    }\n",
       "\n",
       "    .dataframe thead th {\n",
       "        text-align: right;\n",
       "    }\n",
       "</style>\n",
       "<table border=\"1\" class=\"dataframe\">\n",
       "  <thead>\n",
       "    <tr style=\"text-align: right;\">\n",
       "      <th></th>\n",
       "      <th>reviewerID_x</th>\n",
       "      <th>asin</th>\n",
       "      <th>reviewerName_x</th>\n",
       "      <th>helpful_x</th>\n",
       "      <th>reviewText_x</th>\n",
       "      <th>overall_x</th>\n",
       "      <th>summary_x</th>\n",
       "      <th>unixReviewTime_x</th>\n",
       "      <th>reviewTime_x</th>\n",
       "      <th>reviewerID_y</th>\n",
       "      <th>...</th>\n",
       "      <th>helpful_y</th>\n",
       "      <th>reviewText_y</th>\n",
       "      <th>overall_y</th>\n",
       "      <th>summary_y</th>\n",
       "      <th>unixReviewTime_y</th>\n",
       "      <th>reviewTime_y</th>\n",
       "      <th>totalReviewers</th>\n",
       "      <th>overallScore</th>\n",
       "      <th>summaryReview</th>\n",
       "      <th>UserID</th>\n",
       "    </tr>\n",
       "  </thead>\n",
       "  <tbody>\n",
       "    <tr>\n",
       "      <th>415379</th>\n",
       "      <td>A1DTULED19K7HT</td>\n",
       "      <td>B0019EHU8G</td>\n",
       "      <td>Abi \"abi\"</td>\n",
       "      <td>[0, 0]</td>\n",
       "      <td>Bought for my ceiling mounted projector. As it...</td>\n",
       "      <td>5</td>\n",
       "      <td>Wonderful accessory</td>\n",
       "      <td>1331856000</td>\n",
       "      <td>03 16, 2012</td>\n",
       "      <td>3435</td>\n",
       "      <td>...</td>\n",
       "      <td>3435</td>\n",
       "      <td>3435</td>\n",
       "      <td>3435</td>\n",
       "      <td>3435</td>\n",
       "      <td>3435</td>\n",
       "      <td>3435</td>\n",
       "      <td>3435</td>\n",
       "      <td>5</td>\n",
       "      <td>Wonderful accessory</td>\n",
       "      <td>Abi \"abi\"</td>\n",
       "    </tr>\n",
       "    <tr>\n",
       "      <th>418762</th>\n",
       "      <td>A3CGQJYMSDLYAI</td>\n",
       "      <td>B0019EHU8G</td>\n",
       "      <td>yehe</td>\n",
       "      <td>[0, 0]</td>\n",
       "      <td>This has been a great cord so far! I haven't h...</td>\n",
       "      <td>5</td>\n",
       "      <td>Great cord</td>\n",
       "      <td>1350691200</td>\n",
       "      <td>10 20, 2012</td>\n",
       "      <td>3435</td>\n",
       "      <td>...</td>\n",
       "      <td>3435</td>\n",
       "      <td>3435</td>\n",
       "      <td>3435</td>\n",
       "      <td>3435</td>\n",
       "      <td>3435</td>\n",
       "      <td>3435</td>\n",
       "      <td>3435</td>\n",
       "      <td>5</td>\n",
       "      <td>Great cord</td>\n",
       "      <td>yehe</td>\n",
       "    </tr>\n",
       "    <tr>\n",
       "      <th>418685</th>\n",
       "      <td>AIWLW2OIJWOL2</td>\n",
       "      <td>B0019EHU8G</td>\n",
       "      <td>Wan</td>\n",
       "      <td>[0, 0]</td>\n",
       "      <td>This is a GREAT High Speed HDMI cable at a GRE...</td>\n",
       "      <td>5</td>\n",
       "      <td>Great HDMI Cable!! As Good As or BETTER Than t...</td>\n",
       "      <td>1329868800</td>\n",
       "      <td>02 22, 2012</td>\n",
       "      <td>3435</td>\n",
       "      <td>...</td>\n",
       "      <td>3435</td>\n",
       "      <td>3435</td>\n",
       "      <td>3435</td>\n",
       "      <td>3435</td>\n",
       "      <td>3435</td>\n",
       "      <td>3435</td>\n",
       "      <td>3435</td>\n",
       "      <td>5</td>\n",
       "      <td>Great HDMI Cable!! As Good As or BETTER Than t...</td>\n",
       "      <td>Wan</td>\n",
       "    </tr>\n",
       "    <tr>\n",
       "      <th>418765</th>\n",
       "      <td>A2HGW59S5IAVMA</td>\n",
       "      <td>B0019EHU8G</td>\n",
       "      <td>YM</td>\n",
       "      <td>[0, 0]</td>\n",
       "      <td>I seriously will never buy another HDMI cable ...</td>\n",
       "      <td>5</td>\n",
       "      <td>The best</td>\n",
       "      <td>1390262400</td>\n",
       "      <td>01 21, 2014</td>\n",
       "      <td>3435</td>\n",
       "      <td>...</td>\n",
       "      <td>3435</td>\n",
       "      <td>3435</td>\n",
       "      <td>3435</td>\n",
       "      <td>3435</td>\n",
       "      <td>3435</td>\n",
       "      <td>3435</td>\n",
       "      <td>3435</td>\n",
       "      <td>5</td>\n",
       "      <td>The best</td>\n",
       "      <td>YM</td>\n",
       "    </tr>\n",
       "    <tr>\n",
       "      <th>417073</th>\n",
       "      <td>A2FC76D8BXG0PR</td>\n",
       "      <td>B0019EHU8G</td>\n",
       "      <td>JPN850R</td>\n",
       "      <td>[0, 1]</td>\n",
       "      <td>I bought this (25ft) to connect my notebook PC...</td>\n",
       "      <td>4</td>\n",
       "      <td>Works fine</td>\n",
       "      <td>1404604800</td>\n",
       "      <td>07 6, 2014</td>\n",
       "      <td>3435</td>\n",
       "      <td>...</td>\n",
       "      <td>3435</td>\n",
       "      <td>3435</td>\n",
       "      <td>3435</td>\n",
       "      <td>3435</td>\n",
       "      <td>3435</td>\n",
       "      <td>3435</td>\n",
       "      <td>3435</td>\n",
       "      <td>4</td>\n",
       "      <td>Works fine</td>\n",
       "      <td>JPN850R</td>\n",
       "    </tr>\n",
       "  </tbody>\n",
       "</table>\n",
       "<p>5 rows × 21 columns</p>\n",
       "</div>"
      ],
      "text/plain": [
       "          reviewerID_x        asin reviewerName_x helpful_x  \\\n",
       "415379  A1DTULED19K7HT  B0019EHU8G      Abi \"abi\"    [0, 0]   \n",
       "418762  A3CGQJYMSDLYAI  B0019EHU8G           yehe    [0, 0]   \n",
       "418685   AIWLW2OIJWOL2  B0019EHU8G            Wan    [0, 0]   \n",
       "418765  A2HGW59S5IAVMA  B0019EHU8G             YM    [0, 0]   \n",
       "417073  A2FC76D8BXG0PR  B0019EHU8G        JPN850R    [0, 1]   \n",
       "\n",
       "                                             reviewText_x  overall_x  \\\n",
       "415379  Bought for my ceiling mounted projector. As it...          5   \n",
       "418762  This has been a great cord so far! I haven't h...          5   \n",
       "418685  This is a GREAT High Speed HDMI cable at a GRE...          5   \n",
       "418765  I seriously will never buy another HDMI cable ...          5   \n",
       "417073  I bought this (25ft) to connect my notebook PC...          4   \n",
       "\n",
       "                                                summary_x  unixReviewTime_x  \\\n",
       "415379                                Wonderful accessory        1331856000   \n",
       "418762                                         Great cord        1350691200   \n",
       "418685  Great HDMI Cable!! As Good As or BETTER Than t...        1329868800   \n",
       "418765                                           The best        1390262400   \n",
       "417073                                         Works fine        1404604800   \n",
       "\n",
       "       reviewTime_x  reviewerID_y  ...  helpful_y  reviewText_y  overall_y  \\\n",
       "415379  03 16, 2012          3435  ...       3435          3435       3435   \n",
       "418762  10 20, 2012          3435  ...       3435          3435       3435   \n",
       "418685  02 22, 2012          3435  ...       3435          3435       3435   \n",
       "418765  01 21, 2014          3435  ...       3435          3435       3435   \n",
       "417073   07 6, 2014          3435  ...       3435          3435       3435   \n",
       "\n",
       "        summary_y  unixReviewTime_y  reviewTime_y  totalReviewers  \\\n",
       "415379       3435              3435          3435            3435   \n",
       "418762       3435              3435          3435            3435   \n",
       "418685       3435              3435          3435            3435   \n",
       "418765       3435              3435          3435            3435   \n",
       "417073       3435              3435          3435            3435   \n",
       "\n",
       "        overallScore                                      summaryReview  \\\n",
       "415379             5                                Wonderful accessory   \n",
       "418762             5                                         Great cord   \n",
       "418685             5  Great HDMI Cable!! As Good As or BETTER Than t...   \n",
       "418765             5                                           The best   \n",
       "417073             4                                         Works fine   \n",
       "\n",
       "           UserID  \n",
       "415379  Abi \"abi\"  \n",
       "418762       yehe  \n",
       "418685        Wan  \n",
       "418765         YM  \n",
       "417073    JPN850R  \n",
       "\n",
       "[5 rows x 21 columns]"
      ]
     },
     "execution_count": 318,
     "metadata": {},
     "output_type": "execute_result"
    }
   ],
   "source": [
    "dfCount.head()"
   ]
  },
  {
   "cell_type": "code",
   "execution_count": 319,
   "metadata": {},
   "outputs": [],
   "source": [
    "dfProductReview = data500.groupby(\"asin\", as_index=False).mean() #mean\n",
    "ProductReviewSummary = dfCount.groupby(\"asin\")[\"summaryReview\"].apply(list)\n",
    "ProductReviewSummary = pd.DataFrame(ProductReviewSummary)\n",
    "#ProductReviewSummary.to_csv(\"ProductReviewSummary.csv\")"
   ]
  },
  {
   "cell_type": "code",
   "execution_count": 320,
   "metadata": {},
   "outputs": [
    {
     "data": {
      "text/html": [
       "<div>\n",
       "<style scoped>\n",
       "    .dataframe tbody tr th:only-of-type {\n",
       "        vertical-align: middle;\n",
       "    }\n",
       "\n",
       "    .dataframe tbody tr th {\n",
       "        vertical-align: top;\n",
       "    }\n",
       "\n",
       "    .dataframe thead th {\n",
       "        text-align: right;\n",
       "    }\n",
       "</style>\n",
       "<table border=\"1\" class=\"dataframe\">\n",
       "  <thead>\n",
       "    <tr style=\"text-align: right;\">\n",
       "      <th></th>\n",
       "      <th>summaryReview</th>\n",
       "    </tr>\n",
       "    <tr>\n",
       "      <th>asin</th>\n",
       "      <th></th>\n",
       "    </tr>\n",
       "  </thead>\n",
       "  <tbody>\n",
       "    <tr>\n",
       "      <th>0972683275</th>\n",
       "      <td>[It Works But Could Be Better, Excellent mount...</td>\n",
       "    </tr>\n",
       "    <tr>\n",
       "      <th>1400501466</th>\n",
       "      <td>[Excellent hardware, boot from SD for full tab...</td>\n",
       "    </tr>\n",
       "    <tr>\n",
       "      <th>1400501520</th>\n",
       "      <td>[Great product at a great price, Works Good No...</td>\n",
       "    </tr>\n",
       "    <tr>\n",
       "      <th>1400501776</th>\n",
       "      <td>[Good for education, This is amazing!, A gift ...</td>\n",
       "    </tr>\n",
       "    <tr>\n",
       "      <th>1400532620</th>\n",
       "      <td>[Nook, Great E-Reader 2012 and Nook Still Rock...</td>\n",
       "    </tr>\n",
       "  </tbody>\n",
       "</table>\n",
       "</div>"
      ],
      "text/plain": [
       "                                                summaryReview\n",
       "asin                                                         \n",
       "0972683275  [It Works But Could Be Better, Excellent mount...\n",
       "1400501466  [Excellent hardware, boot from SD for full tab...\n",
       "1400501520  [Great product at a great price, Works Good No...\n",
       "1400501776  [Good for education, This is amazing!, A gift ...\n",
       "1400532620  [Nook, Great E-Reader 2012 and Nook Still Rock..."
      ]
     },
     "execution_count": 320,
     "metadata": {},
     "output_type": "execute_result"
    }
   ],
   "source": [
    "ProductReviewSummary.head()"
   ]
  },
  {
   "cell_type": "code",
   "execution_count": 321,
   "metadata": {},
   "outputs": [
    {
     "data": {
      "text/html": [
       "<div>\n",
       "<style scoped>\n",
       "    .dataframe tbody tr th:only-of-type {\n",
       "        vertical-align: middle;\n",
       "    }\n",
       "\n",
       "    .dataframe tbody tr th {\n",
       "        vertical-align: top;\n",
       "    }\n",
       "\n",
       "    .dataframe thead th {\n",
       "        text-align: right;\n",
       "    }\n",
       "</style>\n",
       "<table border=\"1\" class=\"dataframe\">\n",
       "  <thead>\n",
       "    <tr style=\"text-align: right;\">\n",
       "      <th></th>\n",
       "      <th>asin</th>\n",
       "      <th>overall</th>\n",
       "      <th>unixReviewTime</th>\n",
       "    </tr>\n",
       "  </thead>\n",
       "  <tbody>\n",
       "    <tr>\n",
       "      <th>0</th>\n",
       "      <td>0528881469</td>\n",
       "      <td>2.400000</td>\n",
       "      <td>1.310515e+09</td>\n",
       "    </tr>\n",
       "    <tr>\n",
       "      <th>1</th>\n",
       "      <td>0594451647</td>\n",
       "      <td>4.200000</td>\n",
       "      <td>1.396328e+09</td>\n",
       "    </tr>\n",
       "    <tr>\n",
       "      <th>2</th>\n",
       "      <td>0594481813</td>\n",
       "      <td>4.000000</td>\n",
       "      <td>1.382789e+09</td>\n",
       "    </tr>\n",
       "    <tr>\n",
       "      <th>3</th>\n",
       "      <td>0972683275</td>\n",
       "      <td>4.461187</td>\n",
       "      <td>1.354240e+09</td>\n",
       "    </tr>\n",
       "    <tr>\n",
       "      <th>4</th>\n",
       "      <td>1400501466</td>\n",
       "      <td>3.953488</td>\n",
       "      <td>1.352373e+09</td>\n",
       "    </tr>\n",
       "  </tbody>\n",
       "</table>\n",
       "</div>"
      ],
      "text/plain": [
       "         asin   overall  unixReviewTime\n",
       "0  0528881469  2.400000    1.310515e+09\n",
       "1  0594451647  4.200000    1.396328e+09\n",
       "2  0594481813  4.000000    1.382789e+09\n",
       "3  0972683275  4.461187    1.354240e+09\n",
       "4  1400501466  3.953488    1.352373e+09"
      ]
     },
     "execution_count": 321,
     "metadata": {},
     "output_type": "execute_result"
    }
   ],
   "source": [
    "dfProductReview.head()"
   ]
  },
  {
   "cell_type": "code",
   "execution_count": 322,
   "metadata": {},
   "outputs": [
    {
     "data": {
      "text/plain": [
       "(19839, 3)"
      ]
     },
     "execution_count": 322,
     "metadata": {},
     "output_type": "execute_result"
    }
   ],
   "source": [
    "dfProductReview.shape"
   ]
  },
  {
   "cell_type": "code",
   "execution_count": 385,
   "metadata": {},
   "outputs": [],
   "source": [
    "df = pd.read_csv(\"ProductReviewSummary.csv\")\n",
    "df = pd.merge(df, dfProductReview, on=\"asin\", how='inner')"
   ]
  },
  {
   "cell_type": "code",
   "execution_count": 386,
   "metadata": {},
   "outputs": [
    {
     "data": {
      "text/plain": [
       "(16927, 4)"
      ]
     },
     "execution_count": 386,
     "metadata": {},
     "output_type": "execute_result"
    }
   ],
   "source": [
    "df.shape"
   ]
  },
  {
   "cell_type": "code",
   "execution_count": 387,
   "metadata": {},
   "outputs": [
    {
     "data": {
      "text/html": [
       "<div>\n",
       "<style scoped>\n",
       "    .dataframe tbody tr th:only-of-type {\n",
       "        vertical-align: middle;\n",
       "    }\n",
       "\n",
       "    .dataframe tbody tr th {\n",
       "        vertical-align: top;\n",
       "    }\n",
       "\n",
       "    .dataframe thead th {\n",
       "        text-align: right;\n",
       "    }\n",
       "</style>\n",
       "<table border=\"1\" class=\"dataframe\">\n",
       "  <thead>\n",
       "    <tr style=\"text-align: right;\">\n",
       "      <th></th>\n",
       "      <th>asin</th>\n",
       "      <th>summaryReview</th>\n",
       "      <th>overall</th>\n",
       "      <th>unixReviewTime</th>\n",
       "    </tr>\n",
       "  </thead>\n",
       "  <tbody>\n",
       "    <tr>\n",
       "      <th>0</th>\n",
       "      <td>0594481813</td>\n",
       "      <td>['Great replacement for original power cable',...</td>\n",
       "      <td>4.000000</td>\n",
       "      <td>1.382789e+09</td>\n",
       "    </tr>\n",
       "    <tr>\n",
       "      <th>1</th>\n",
       "      <td>0972683275</td>\n",
       "      <td>['Excelant mount for Tv. Would buy more if I n...</td>\n",
       "      <td>4.461187</td>\n",
       "      <td>1.354240e+09</td>\n",
       "    </tr>\n",
       "    <tr>\n",
       "      <th>2</th>\n",
       "      <td>1400501466</td>\n",
       "      <td>[\"It's a entry-level tablet for $250\", 'amazin...</td>\n",
       "      <td>3.953488</td>\n",
       "      <td>1.352373e+09</td>\n",
       "    </tr>\n",
       "    <tr>\n",
       "      <th>3</th>\n",
       "      <td>1400501520</td>\n",
       "      <td>['B&amp;N Nook 16 Gbs Tablet Has No Camera Can Pla...</td>\n",
       "      <td>4.400000</td>\n",
       "      <td>1.376261e+09</td>\n",
       "    </tr>\n",
       "    <tr>\n",
       "      <th>4</th>\n",
       "      <td>1400501776</td>\n",
       "      <td>['Great Color E-Reader With Extra Features', \"...</td>\n",
       "      <td>4.150000</td>\n",
       "      <td>1.356627e+09</td>\n",
       "    </tr>\n",
       "  </tbody>\n",
       "</table>\n",
       "</div>"
      ],
      "text/plain": [
       "         asin                                      summaryReview   overall  \\\n",
       "0  0594481813  ['Great replacement for original power cable',...  4.000000   \n",
       "1  0972683275  ['Excelant mount for Tv. Would buy more if I n...  4.461187   \n",
       "2  1400501466  [\"It's a entry-level tablet for $250\", 'amazin...  3.953488   \n",
       "3  1400501520  ['B&N Nook 16 Gbs Tablet Has No Camera Can Pla...  4.400000   \n",
       "4  1400501776  ['Great Color E-Reader With Extra Features', \"...  4.150000   \n",
       "\n",
       "   unixReviewTime  \n",
       "0    1.382789e+09  \n",
       "1    1.354240e+09  \n",
       "2    1.352373e+09  \n",
       "3    1.376261e+09  \n",
       "4    1.356627e+09  "
      ]
     },
     "execution_count": 387,
     "metadata": {},
     "output_type": "execute_result"
    }
   ],
   "source": [
    "df.head()"
   ]
  },
  {
   "cell_type": "code",
   "execution_count": 388,
   "metadata": {},
   "outputs": [],
   "source": [
    "df=df.drop('unixReviewTime',axis=1)\n"
   ]
  },
  {
   "cell_type": "code",
   "execution_count": 389,
   "metadata": {},
   "outputs": [],
   "source": [
    "df=df.rename(columns={'asin':'productID','overall':'avg_rating'})"
   ]
  },
  {
   "cell_type": "code",
   "execution_count": 390,
   "metadata": {},
   "outputs": [
    {
     "data": {
      "text/html": [
       "<div>\n",
       "<style scoped>\n",
       "    .dataframe tbody tr th:only-of-type {\n",
       "        vertical-align: middle;\n",
       "    }\n",
       "\n",
       "    .dataframe tbody tr th {\n",
       "        vertical-align: top;\n",
       "    }\n",
       "\n",
       "    .dataframe thead th {\n",
       "        text-align: right;\n",
       "    }\n",
       "</style>\n",
       "<table border=\"1\" class=\"dataframe\">\n",
       "  <thead>\n",
       "    <tr style=\"text-align: right;\">\n",
       "      <th></th>\n",
       "      <th>productID</th>\n",
       "      <th>summaryReview</th>\n",
       "      <th>avg_rating</th>\n",
       "    </tr>\n",
       "  </thead>\n",
       "  <tbody>\n",
       "    <tr>\n",
       "      <th>0</th>\n",
       "      <td>0594481813</td>\n",
       "      <td>['Great replacement for original power cable',...</td>\n",
       "      <td>4.000000</td>\n",
       "    </tr>\n",
       "    <tr>\n",
       "      <th>1</th>\n",
       "      <td>0972683275</td>\n",
       "      <td>['Excelant mount for Tv. Would buy more if I n...</td>\n",
       "      <td>4.461187</td>\n",
       "    </tr>\n",
       "    <tr>\n",
       "      <th>2</th>\n",
       "      <td>1400501466</td>\n",
       "      <td>[\"It's a entry-level tablet for $250\", 'amazin...</td>\n",
       "      <td>3.953488</td>\n",
       "    </tr>\n",
       "    <tr>\n",
       "      <th>3</th>\n",
       "      <td>1400501520</td>\n",
       "      <td>['B&amp;N Nook 16 Gbs Tablet Has No Camera Can Pla...</td>\n",
       "      <td>4.400000</td>\n",
       "    </tr>\n",
       "    <tr>\n",
       "      <th>4</th>\n",
       "      <td>1400501776</td>\n",
       "      <td>['Great Color E-Reader With Extra Features', \"...</td>\n",
       "      <td>4.150000</td>\n",
       "    </tr>\n",
       "  </tbody>\n",
       "</table>\n",
       "</div>"
      ],
      "text/plain": [
       "    productID                                      summaryReview  avg_rating\n",
       "0  0594481813  ['Great replacement for original power cable',...    4.000000\n",
       "1  0972683275  ['Excelant mount for Tv. Would buy more if I n...    4.461187\n",
       "2  1400501466  [\"It's a entry-level tablet for $250\", 'amazin...    3.953488\n",
       "3  1400501520  ['B&N Nook 16 Gbs Tablet Has No Camera Can Pla...    4.400000\n",
       "4  1400501776  ['Great Color E-Reader With Extra Features', \"...    4.150000"
      ]
     },
     "execution_count": 390,
     "metadata": {},
     "output_type": "execute_result"
    }
   ],
   "source": [
    "df.head()"
   ]
  },
  {
   "cell_type": "code",
   "execution_count": 391,
   "metadata": {},
   "outputs": [
    {
     "data": {
      "text/plain": [
       "(16927, 3)"
      ]
     },
     "execution_count": 391,
     "metadata": {},
     "output_type": "execute_result"
    }
   ],
   "source": [
    "df.shape"
   ]
  },
  {
   "cell_type": "markdown",
   "metadata": {},
   "source": [
    "#### Text Cleaning - Summary column for KNN supervised recommender"
   ]
  },
  {
   "cell_type": "code",
   "execution_count": 392,
   "metadata": {},
   "outputs": [],
   "source": [
    "#function for tokenizing summary\n",
    "regEx = re.compile('[^a-z]+')\n",
    "def cleanReviews(reviewText):\n",
    "    reviewText = reviewText.lower()\n",
    "    reviewText = regEx.sub(' ', reviewText).strip()\n",
    "    return reviewText"
   ]
  },
  {
   "cell_type": "code",
   "execution_count": 393,
   "metadata": {},
   "outputs": [],
   "source": [
    "#reset index and drop duplicate rows\n",
    "df[\"summaryClean\"] = df[\"summaryReview\"].apply(cleanReviews)\n",
    "#df = df.drop_duplicates(['overall'], keep='last')\n"
   ]
  },
  {
   "cell_type": "code",
   "execution_count": 394,
   "metadata": {},
   "outputs": [
    {
     "data": {
      "text/html": [
       "<div>\n",
       "<style scoped>\n",
       "    .dataframe tbody tr th:only-of-type {\n",
       "        vertical-align: middle;\n",
       "    }\n",
       "\n",
       "    .dataframe tbody tr th {\n",
       "        vertical-align: top;\n",
       "    }\n",
       "\n",
       "    .dataframe thead th {\n",
       "        text-align: right;\n",
       "    }\n",
       "</style>\n",
       "<table border=\"1\" class=\"dataframe\">\n",
       "  <thead>\n",
       "    <tr style=\"text-align: right;\">\n",
       "      <th></th>\n",
       "      <th>productID</th>\n",
       "      <th>summaryReview</th>\n",
       "      <th>avg_rating</th>\n",
       "      <th>summaryClean</th>\n",
       "    </tr>\n",
       "  </thead>\n",
       "  <tbody>\n",
       "    <tr>\n",
       "      <th>0</th>\n",
       "      <td>0594481813</td>\n",
       "      <td>['Great replacement for original power cable',...</td>\n",
       "      <td>4.000000</td>\n",
       "      <td>great replacement for original power cable it ...</td>\n",
       "    </tr>\n",
       "    <tr>\n",
       "      <th>1</th>\n",
       "      <td>0972683275</td>\n",
       "      <td>['Excelant mount for Tv. Would buy more if I n...</td>\n",
       "      <td>4.461187</td>\n",
       "      <td>excelant mount for tv would buy more if i need...</td>\n",
       "    </tr>\n",
       "    <tr>\n",
       "      <th>2</th>\n",
       "      <td>1400501466</td>\n",
       "      <td>[\"It's a entry-level tablet for $250\", 'amazin...</td>\n",
       "      <td>3.953488</td>\n",
       "      <td>it s a entry level tablet for amazing device v...</td>\n",
       "    </tr>\n",
       "    <tr>\n",
       "      <th>3</th>\n",
       "      <td>1400501520</td>\n",
       "      <td>['B&amp;N Nook 16 Gbs Tablet Has No Camera Can Pla...</td>\n",
       "      <td>4.400000</td>\n",
       "      <td>b n nook gbs tablet has no camera can play lim...</td>\n",
       "    </tr>\n",
       "    <tr>\n",
       "      <th>4</th>\n",
       "      <td>1400501776</td>\n",
       "      <td>['Great Color E-Reader With Extra Features', \"...</td>\n",
       "      <td>4.150000</td>\n",
       "      <td>great color e reader with extra features know ...</td>\n",
       "    </tr>\n",
       "  </tbody>\n",
       "</table>\n",
       "</div>"
      ],
      "text/plain": [
       "    productID                                      summaryReview  avg_rating  \\\n",
       "0  0594481813  ['Great replacement for original power cable',...    4.000000   \n",
       "1  0972683275  ['Excelant mount for Tv. Would buy more if I n...    4.461187   \n",
       "2  1400501466  [\"It's a entry-level tablet for $250\", 'amazin...    3.953488   \n",
       "3  1400501520  ['B&N Nook 16 Gbs Tablet Has No Camera Can Pla...    4.400000   \n",
       "4  1400501776  ['Great Color E-Reader With Extra Features', \"...    4.150000   \n",
       "\n",
       "                                        summaryClean  \n",
       "0  great replacement for original power cable it ...  \n",
       "1  excelant mount for tv would buy more if i need...  \n",
       "2  it s a entry level tablet for amazing device v...  \n",
       "3  b n nook gbs tablet has no camera can play lim...  \n",
       "4  great color e reader with extra features know ...  "
      ]
     },
     "execution_count": 394,
     "metadata": {},
     "output_type": "execute_result"
    }
   ],
   "source": [
    "df.head()"
   ]
  },
  {
   "cell_type": "code",
   "execution_count": 395,
   "metadata": {},
   "outputs": [
    {
     "data": {
      "text/plain": [
       "Index(['productID', 'summaryReview', 'avg_rating', 'summaryClean'], dtype='object')"
      ]
     },
     "execution_count": 395,
     "metadata": {},
     "output_type": "execute_result"
    }
   ],
   "source": [
    "df.columns"
   ]
  },
  {
   "cell_type": "code",
   "execution_count": 396,
   "metadata": {},
   "outputs": [],
   "source": [
    "reviews = df[\"summaryClean\"] \n",
    "countVector = CountVectorizer(max_features = 300, stop_words='english') \n",
    "transformedReviews = countVector.fit_transform(reviews) "
   ]
  },
  {
   "cell_type": "code",
   "execution_count": 397,
   "metadata": {},
   "outputs": [
    {
     "data": {
      "text/plain": [
       "(16927, 300)"
      ]
     },
     "execution_count": 397,
     "metadata": {},
     "output_type": "execute_result"
    }
   ],
   "source": [
    "transformedReviews.shape"
   ]
  },
  {
   "cell_type": "code",
   "execution_count": 398,
   "metadata": {},
   "outputs": [
    {
     "data": {
      "text/plain": [
       "array([[0, 0, 0, ..., 0, 0, 0],\n",
       "       [0, 0, 5, ..., 0, 0, 0],\n",
       "       [0, 0, 0, ..., 0, 0, 0],\n",
       "       [0, 0, 0, ..., 0, 0, 0]])"
      ]
     },
     "execution_count": 398,
     "metadata": {},
     "output_type": "execute_result"
    }
   ],
   "source": [
    "transformedReviews.A[:4]"
   ]
  },
  {
   "cell_type": "code",
   "execution_count": 399,
   "metadata": {},
   "outputs": [],
   "source": [
    "dfReviews = DataFrame(transformedReviews.A, columns=countVector.get_feature_names())\n",
    "dfReviews = dfReviews.astype(int)"
   ]
  },
  {
   "cell_type": "code",
   "execution_count": 400,
   "metadata": {},
   "outputs": [
    {
     "data": {
      "text/html": [
       "<div>\n",
       "<style scoped>\n",
       "    .dataframe tbody tr th:only-of-type {\n",
       "        vertical-align: middle;\n",
       "    }\n",
       "\n",
       "    .dataframe tbody tr th {\n",
       "        vertical-align: top;\n",
       "    }\n",
       "\n",
       "    .dataframe thead th {\n",
       "        text-align: right;\n",
       "    }\n",
       "</style>\n",
       "<table border=\"1\" class=\"dataframe\">\n",
       "  <thead>\n",
       "    <tr style=\"text-align: right;\">\n",
       "      <th></th>\n",
       "      <th>accessory</th>\n",
       "      <th>adapter</th>\n",
       "      <th>advertised</th>\n",
       "      <th>affordable</th>\n",
       "      <th>amazing</th>\n",
       "      <th>amazon</th>\n",
       "      <th>antenna</th>\n",
       "      <th>apple</th>\n",
       "      <th>audio</th>\n",
       "      <th>awesome</th>\n",
       "      <th>...</th>\n",
       "      <th>work</th>\n",
       "      <th>worked</th>\n",
       "      <th>working</th>\n",
       "      <th>works</th>\n",
       "      <th>worth</th>\n",
       "      <th>wow</th>\n",
       "      <th>wrong</th>\n",
       "      <th>year</th>\n",
       "      <th>years</th>\n",
       "      <th>zoom</th>\n",
       "    </tr>\n",
       "  </thead>\n",
       "  <tbody>\n",
       "    <tr>\n",
       "      <th>0</th>\n",
       "      <td>0</td>\n",
       "      <td>0</td>\n",
       "      <td>0</td>\n",
       "      <td>0</td>\n",
       "      <td>0</td>\n",
       "      <td>0</td>\n",
       "      <td>0</td>\n",
       "      <td>0</td>\n",
       "      <td>0</td>\n",
       "      <td>0</td>\n",
       "      <td>...</td>\n",
       "      <td>0</td>\n",
       "      <td>0</td>\n",
       "      <td>0</td>\n",
       "      <td>2</td>\n",
       "      <td>0</td>\n",
       "      <td>0</td>\n",
       "      <td>0</td>\n",
       "      <td>0</td>\n",
       "      <td>0</td>\n",
       "      <td>0</td>\n",
       "    </tr>\n",
       "    <tr>\n",
       "      <th>1</th>\n",
       "      <td>0</td>\n",
       "      <td>0</td>\n",
       "      <td>5</td>\n",
       "      <td>0</td>\n",
       "      <td>1</td>\n",
       "      <td>0</td>\n",
       "      <td>0</td>\n",
       "      <td>0</td>\n",
       "      <td>0</td>\n",
       "      <td>7</td>\n",
       "      <td>...</td>\n",
       "      <td>3</td>\n",
       "      <td>3</td>\n",
       "      <td>0</td>\n",
       "      <td>24</td>\n",
       "      <td>1</td>\n",
       "      <td>1</td>\n",
       "      <td>0</td>\n",
       "      <td>0</td>\n",
       "      <td>0</td>\n",
       "      <td>0</td>\n",
       "    </tr>\n",
       "    <tr>\n",
       "      <th>2</th>\n",
       "      <td>0</td>\n",
       "      <td>0</td>\n",
       "      <td>0</td>\n",
       "      <td>0</td>\n",
       "      <td>1</td>\n",
       "      <td>0</td>\n",
       "      <td>0</td>\n",
       "      <td>0</td>\n",
       "      <td>0</td>\n",
       "      <td>0</td>\n",
       "      <td>...</td>\n",
       "      <td>0</td>\n",
       "      <td>0</td>\n",
       "      <td>0</td>\n",
       "      <td>0</td>\n",
       "      <td>0</td>\n",
       "      <td>0</td>\n",
       "      <td>0</td>\n",
       "      <td>0</td>\n",
       "      <td>0</td>\n",
       "      <td>0</td>\n",
       "    </tr>\n",
       "    <tr>\n",
       "      <th>3</th>\n",
       "      <td>0</td>\n",
       "      <td>0</td>\n",
       "      <td>0</td>\n",
       "      <td>0</td>\n",
       "      <td>0</td>\n",
       "      <td>0</td>\n",
       "      <td>0</td>\n",
       "      <td>0</td>\n",
       "      <td>0</td>\n",
       "      <td>0</td>\n",
       "      <td>...</td>\n",
       "      <td>0</td>\n",
       "      <td>0</td>\n",
       "      <td>0</td>\n",
       "      <td>1</td>\n",
       "      <td>0</td>\n",
       "      <td>0</td>\n",
       "      <td>0</td>\n",
       "      <td>0</td>\n",
       "      <td>0</td>\n",
       "      <td>0</td>\n",
       "    </tr>\n",
       "    <tr>\n",
       "      <th>4</th>\n",
       "      <td>0</td>\n",
       "      <td>0</td>\n",
       "      <td>0</td>\n",
       "      <td>0</td>\n",
       "      <td>1</td>\n",
       "      <td>0</td>\n",
       "      <td>0</td>\n",
       "      <td>0</td>\n",
       "      <td>0</td>\n",
       "      <td>0</td>\n",
       "      <td>...</td>\n",
       "      <td>0</td>\n",
       "      <td>0</td>\n",
       "      <td>0</td>\n",
       "      <td>0</td>\n",
       "      <td>0</td>\n",
       "      <td>0</td>\n",
       "      <td>0</td>\n",
       "      <td>0</td>\n",
       "      <td>0</td>\n",
       "      <td>0</td>\n",
       "    </tr>\n",
       "  </tbody>\n",
       "</table>\n",
       "<p>5 rows × 300 columns</p>\n",
       "</div>"
      ],
      "text/plain": [
       "   accessory  adapter  advertised  affordable  amazing  amazon  antenna  \\\n",
       "0          0        0           0           0        0       0        0   \n",
       "1          0        0           5           0        1       0        0   \n",
       "2          0        0           0           0        1       0        0   \n",
       "3          0        0           0           0        0       0        0   \n",
       "4          0        0           0           0        1       0        0   \n",
       "\n",
       "   apple  audio  awesome  ...  work  worked  working  works  worth  wow  \\\n",
       "0      0      0        0  ...     0       0        0      2      0    0   \n",
       "1      0      0        7  ...     3       3        0     24      1    1   \n",
       "2      0      0        0  ...     0       0        0      0      0    0   \n",
       "3      0      0        0  ...     0       0        0      1      0    0   \n",
       "4      0      0        0  ...     0       0        0      0      0    0   \n",
       "\n",
       "   wrong  year  years  zoom  \n",
       "0      0     0      0     0  \n",
       "1      0     0      0     0  \n",
       "2      0     0      0     0  \n",
       "3      0     0      0     0  \n",
       "4      0     0      0     0  \n",
       "\n",
       "[5 rows x 300 columns]"
      ]
     },
     "execution_count": 400,
     "metadata": {},
     "output_type": "execute_result"
    }
   ],
   "source": [
    "dfReviews.head()"
   ]
  },
  {
   "cell_type": "code",
   "execution_count": 401,
   "metadata": {},
   "outputs": [],
   "source": [
    "#save \n",
    "dfReviews.to_csv(\"dfReviews.csv\")"
   ]
  },
  {
   "cell_type": "code",
   "execution_count": 437,
   "metadata": {},
   "outputs": [],
   "source": [
    "# First let's create a dataset called X\n",
    "X = np.array(dfReviews)\n",
    " # create train and test\n",
    "tpercent = 0.9\n",
    "tsize = int(np.floor(tpercent * len(dfReviews)))\n",
    "dfReviews_train = X[:tsize]\n",
    "dfReviews_test = X[tsize:]\n",
    "#len of train and test\n",
    "lentrain = len(dfReviews_train)\n",
    "lentest = len(dfReviews_test)"
   ]
  },
  {
   "cell_type": "code",
   "execution_count": 438,
   "metadata": {},
   "outputs": [
    {
     "name": "stdout",
     "output_type": "stream",
     "text": [
      "15234\n",
      "1693\n"
     ]
    }
   ],
   "source": [
    "# KNN classifier to find similar products\n",
    "print(lentrain)\n",
    "print(lentest)"
   ]
  },
  {
   "cell_type": "code",
   "execution_count": 439,
   "metadata": {},
   "outputs": [],
   "source": [
    "df_train_target = df[\"avg_rating\"][:lentrain]\n",
    "df_test_target = df[\"avg_rating\"][lentrain:lentrain+lentest]\n",
    "df_train_target = df_train_target.astype(int)\n",
    "df_test_target = df_test_target.astype(int)"
   ]
  },
  {
   "cell_type": "markdown",
   "metadata": {},
   "source": [
    "#### Predicting Review Rating with k = 3/5/7 ( using algo: ball_tree, kd_tree, brute)"
   ]
  },
  {
   "cell_type": "code",
   "execution_count": 449,
   "metadata": {},
   "outputs": [],
   "source": [
    "#best result obtained with k=3\n",
    "n_neighbors = [3,5,7]\n",
    "algo=['ball_tree','kd_tree','brute']\n",
    "values_accuracy=np.zeros((3,3))\n",
    "values_RMSE=np.zeros((3,3))\n",
    "for idx,i in enumerate(n_neighbors):\n",
    "    for al,j in enumerate(algo):\n",
    "        knnclf = neighbors.KNeighborsClassifier(i,algorithm=j, weights='distance')\n",
    "        knnclf.fit(dfReviews_train, df_train_target)\n",
    "        knnpreds_test = knnclf.predict(dfReviews_test)\n",
    "        values_accuracy[idx,al]=accuracy_score(df_test_target, knnpreds_test)\n",
    "        values_RMSE[idx,al]=sqrt(mean_squared_error(df_test_target, knnpreds_test))\n",
    "#print(mean_squared_error(df5_test_target, knnpreds_test))"
   ]
  },
  {
   "cell_type": "code",
   "execution_count": 450,
   "metadata": {},
   "outputs": [],
   "source": [
    "KNN_result_accuracy=pd.DataFrame(values_accuracy,index=n_neighbors,columns=algo)\n",
    "KNN_result_RMSE=pd.DataFrame(values_RMSE,index=n_neighbors,columns=algo)"
   ]
  },
  {
   "cell_type": "code",
   "execution_count": 451,
   "metadata": {},
   "outputs": [
    {
     "data": {
      "text/html": [
       "<div>\n",
       "<style scoped>\n",
       "    .dataframe tbody tr th:only-of-type {\n",
       "        vertical-align: middle;\n",
       "    }\n",
       "\n",
       "    .dataframe tbody tr th {\n",
       "        vertical-align: top;\n",
       "    }\n",
       "\n",
       "    .dataframe thead th {\n",
       "        text-align: right;\n",
       "    }\n",
       "</style>\n",
       "<table border=\"1\" class=\"dataframe\">\n",
       "  <thead>\n",
       "    <tr style=\"text-align: right;\">\n",
       "      <th></th>\n",
       "      <th>ball_tree</th>\n",
       "      <th>kd_tree</th>\n",
       "      <th>brute</th>\n",
       "    </tr>\n",
       "  </thead>\n",
       "  <tbody>\n",
       "    <tr>\n",
       "      <th>3</th>\n",
       "      <td>0.582989</td>\n",
       "      <td>0.582989</td>\n",
       "      <td>0.585351</td>\n",
       "    </tr>\n",
       "    <tr>\n",
       "      <th>5</th>\n",
       "      <td>0.608978</td>\n",
       "      <td>0.613703</td>\n",
       "      <td>0.614885</td>\n",
       "    </tr>\n",
       "    <tr>\n",
       "      <th>7</th>\n",
       "      <td>0.618429</td>\n",
       "      <td>0.611341</td>\n",
       "      <td>0.624335</td>\n",
       "    </tr>\n",
       "  </tbody>\n",
       "</table>\n",
       "</div>"
      ],
      "text/plain": [
       "   ball_tree   kd_tree     brute\n",
       "3   0.582989  0.582989  0.585351\n",
       "5   0.608978  0.613703  0.614885\n",
       "7   0.618429  0.611341  0.624335"
      ]
     },
     "execution_count": 451,
     "metadata": {},
     "output_type": "execute_result"
    }
   ],
   "source": [
    "KNN_result_accuracy.head()"
   ]
  },
  {
   "cell_type": "code",
   "execution_count": 452,
   "metadata": {},
   "outputs": [
    {
     "data": {
      "text/html": [
       "<div>\n",
       "<style scoped>\n",
       "    .dataframe tbody tr th:only-of-type {\n",
       "        vertical-align: middle;\n",
       "    }\n",
       "\n",
       "    .dataframe tbody tr th {\n",
       "        vertical-align: top;\n",
       "    }\n",
       "\n",
       "    .dataframe thead th {\n",
       "        text-align: right;\n",
       "    }\n",
       "</style>\n",
       "<table border=\"1\" class=\"dataframe\">\n",
       "  <thead>\n",
       "    <tr style=\"text-align: right;\">\n",
       "      <th></th>\n",
       "      <th>ball_tree</th>\n",
       "      <th>kd_tree</th>\n",
       "      <th>brute</th>\n",
       "    </tr>\n",
       "  </thead>\n",
       "  <tbody>\n",
       "    <tr>\n",
       "      <th>3</th>\n",
       "      <td>0.764310</td>\n",
       "      <td>0.761988</td>\n",
       "      <td>0.758103</td>\n",
       "    </tr>\n",
       "    <tr>\n",
       "      <th>5</th>\n",
       "      <td>0.714379</td>\n",
       "      <td>0.709816</td>\n",
       "      <td>0.704806</td>\n",
       "    </tr>\n",
       "    <tr>\n",
       "      <th>7</th>\n",
       "      <td>0.703128</td>\n",
       "      <td>0.709400</td>\n",
       "      <td>0.693826</td>\n",
       "    </tr>\n",
       "  </tbody>\n",
       "</table>\n",
       "</div>"
      ],
      "text/plain": [
       "   ball_tree   kd_tree     brute\n",
       "3   0.764310  0.761988  0.758103\n",
       "5   0.714379  0.709816  0.704806\n",
       "7   0.703128  0.709400  0.693826"
      ]
     },
     "execution_count": 452,
     "metadata": {},
     "output_type": "execute_result"
    }
   ],
   "source": [
    "KNN_result_RMSE.head()"
   ]
  },
  {
   "cell_type": "code",
   "execution_count": 453,
   "metadata": {},
   "outputs": [],
   "source": [
    "n_neighbors = 7\n",
    "knnclf = neighbors.KNeighborsClassifier(n_neighbors,algorithm='brute',weights='distance')\n",
    "knnclf.fit(dfReviews_train, df_train_target)\n",
    "knnpreds_test = knnclf.predict(dfReviews_test)"
   ]
  },
  {
   "cell_type": "code",
   "execution_count": 454,
   "metadata": {},
   "outputs": [
    {
     "name": "stdout",
     "output_type": "stream",
     "text": [
      "0.6243354991139988\n"
     ]
    }
   ],
   "source": [
    "print(accuracy_score(df_test_target, knnpreds_test))"
   ]
  },
  {
   "cell_type": "code",
   "execution_count": 455,
   "metadata": {},
   "outputs": [
    {
     "name": "stdout",
     "output_type": "stream",
     "text": [
      "0.6938256086308482\n"
     ]
    }
   ],
   "source": [
    "print(sqrt(mean_squared_error(df_test_target, knnpreds_test)))"
   ]
  },
  {
   "cell_type": "markdown",
   "metadata": {},
   "source": [
    "#### Get recommendations:"
   ]
  },
  {
   "cell_type": "code",
   "execution_count": 440,
   "metadata": {},
   "outputs": [],
   "source": [
    "neighbor = NearestNeighbors(n_neighbors=7, algorithm='brute').fit(dfReviews_train)\n",
    "\n",
    "# Let's find the k-neighbors of each point in object X. To do that we call the kneighbors() function on object X.\n",
    "distances, indices = neighbor.kneighbors(dfReviews_train)"
   ]
  },
  {
   "cell_type": "code",
   "execution_count": 443,
   "metadata": {},
   "outputs": [
    {
     "name": "stdout",
     "output_type": "stream",
     "text": [
      "Based on product reviews, for  B001H5WLP4  average rating is  4.111111111111111\n",
      "The first similar product is  B0002J4IX4  average rating is  4.5\n",
      "The second similar product is  B000L9M0YO  average rating is  4.857142857142857\n",
      "-----------------------------------------------------------\n"
     ]
    }
   ],
   "source": [
    "i=np.random.choice(lentest)\n",
    "a = neighbor.kneighbors([dfReviews_test[i]])\n",
    "related_product_list = a[1]\n",
    "\n",
    "first_related_product = [item[0] for item in related_product_list]\n",
    "first_related_product = str(first_related_product).strip('[]')\n",
    "first_related_product = int(first_related_product)\n",
    "second_related_product = [item[1] for item in related_product_list]\n",
    "second_related_product = str(second_related_product).strip('[]')\n",
    "second_related_product = int(second_related_product)\n",
    "    \n",
    "    \n",
    "print (\"Based on product reviews, for \", df[\"productID\"][lentrain + i] ,\" average rating is \",df[\"avg_rating\"][lentrain + i])\n",
    "print (\"The first similar product is \", df[\"productID\"][first_related_product] ,\" average rating is \",df[\"avg_rating\"][first_related_product])\n",
    "print (\"The second similar product is \", df[\"productID\"][second_related_product] ,\" average rating is \",df[\"avg_rating\"][second_related_product])\n",
    "print (\"-----------------------------------------------------------\")"
   ]
  },
  {
   "cell_type": "markdown",
   "metadata": {},
   "source": [
    "#### WordCloud"
   ]
  },
  {
   "cell_type": "code",
   "execution_count": null,
   "metadata": {},
   "outputs": [],
   "source": [
    "stopwords = set(STOPWORDS)\n",
    "\n",
    "def show_wordcloud(data, title = None):\n",
    "    wordcloud = WordCloud(\n",
    "        background_color='white',\n",
    "        stopwords=stopwords,\n",
    "        max_words=100,\n",
    "        max_font_size=30, \n",
    "        scale=3,\n",
    "        random_state=1\n",
    "    ).generate(str(data))\n",
    "    \n",
    "    fig = plt.figure(1, figsize=(8, 8))\n",
    "    plt.axis('off')\n",
    "    if title: \n",
    "        fig.suptitle(title, fontsize=20)\n",
    "        fig.subplots_adjust(top=2.3)\n",
    "\n",
    "    plt.imshow(wordcloud)\n",
    "    plt.show()"
   ]
  },
  {
   "cell_type": "code",
   "execution_count": 237,
   "metadata": {},
   "outputs": [],
   "source": [
    "cluster = data500.groupby(\"overall\")[\"summary\"].apply(list)\n",
    "cluster = pd.DataFrame(cluster)\n",
    "cluster.to_csv(\"cluster.csv\")\n",
    "cluster1 = pd.read_csv(\"cluster.csv\")\n",
    "cluster1[\"summaryClean\"] = cluster1[\"summary\"].apply(cleanReviews)"
   ]
  },
  {
   "cell_type": "code",
   "execution_count": 240,
   "metadata": {},
   "outputs": [
    {
     "data": {
      "image/png": "[encoded data removed]",
      "text/plain": [
       "<Figure size 576x576 with 1 Axes>"
      ]
     },
     "metadata": {
      "needs_background": "light"
     },
     "output_type": "display_data"
    }
   ],
   "source": [
    "show_wordcloud(cluster1[\"summaryClean\"][0], title = \"Review Score One\")"
   ]
  },
  {
   "cell_type": "code",
   "execution_count": 241,
   "metadata": {},
   "outputs": [
    {
     "data": {
      "image/png": "[encoded data removed]",
      "text/plain": [
       "<Figure size 576x576 with 1 Axes>"
      ]
     },
     "metadata": {
      "needs_background": "light"
     },
     "output_type": "display_data"
    }
   ],
   "source": [
    "show_wordcloud(cluster1[\"summaryClean\"][1], title = \"Review Rating Two\")"
   ]
  },
  {
   "cell_type": "code",
   "execution_count": 242,
   "metadata": {},
   "outputs": [
    {
     "data": {
      "image/png": "[encoded data removed]",
      "text/plain": [
       "<Figure size 576x576 with 1 Axes>"
      ]
     },
     "metadata": {
      "needs_background": "light"
     },
     "output_type": "display_data"
    }
   ],
   "source": [
    "show_wordcloud(cluster1[\"summaryClean\"][2], title = \"Review Rating Three\")"
   ]
  },
  {
   "cell_type": "code",
   "execution_count": 243,
   "metadata": {},
   "outputs": [
    {
     "data": {
      "image/png": "[encoded data removed]",
      "text/plain": [
       "<Figure size 576x576 with 1 Axes>"
      ]
     },
     "metadata": {
      "needs_background": "light"
     },
     "output_type": "display_data"
    }
   ],
   "source": [
    "show_wordcloud(cluster1[\"summaryClean\"][3], title = \"Review Rating Four\")"
   ]
  },
  {
   "cell_type": "code",
   "execution_count": 244,
   "metadata": {},
   "outputs": [
    {
     "data": {
      "image/png": "[encoded data removed]",
      "text/plain": [
       "<Figure size 576x576 with 1 Axes>"
      ]
     },
     "metadata": {
      "needs_background": "light"
     },
     "output_type": "display_data"
    }
   ],
   "source": [
    "show_wordcloud(cluster1[\"summaryClean\"][4], title = \"Review Rating Five\")"
   ]
  },
  {
   "cell_type": "markdown",
   "metadata": {},
   "source": [
    "# 2. Sentiment Analysis using LSTM Neural Network"
   ]
  },
  {
   "cell_type": "markdown",
   "metadata": {},
   "source": [
    "#### Import libraries"
   ]
  },
  {
   "cell_type": "code",
   "execution_count": 28,
   "metadata": {},
   "outputs": [],
   "source": [
    "from tensorflow.keras.preprocessing.text import Tokenizer"
   ]
  },
  {
   "cell_type": "code",
   "execution_count": 29,
   "metadata": {},
   "outputs": [],
   "source": [
    "from tensorflow.keras.preprocessing.sequence import pad_sequences"
   ]
  },
  {
   "cell_type": "code",
   "execution_count": 30,
   "metadata": {},
   "outputs": [
    {
     "name": "stderr",
     "output_type": "stream",
     "text": [
      "Using TensorFlow backend.\n"
     ]
    }
   ],
   "source": [
    "from sklearn.feature_extraction.text import CountVectorizer\n",
    "from keras.preprocessing.text import Tokenizer\n",
    "from keras.preprocessing.sequence import pad_sequences\n",
    "from keras.models import Sequential\n",
    "from keras.layers import Dense, Embedding, LSTM, SpatialDropout1D, Bidirectional\n",
    "from sklearn.model_selection import train_test_split\n",
    "from keras.utils.np_utils import to_categorical\n",
    "import re\n",
    "import time \n",
    "from tensorflow.keras.layers import Dropout"
   ]
  },
  {
   "cell_type": "code",
   "execution_count": 31,
   "metadata": {},
   "outputs": [],
   "source": [
    "from keras.layers import Bidirectional"
   ]
  },
  {
   "cell_type": "code",
   "execution_count": 32,
   "metadata": {},
   "outputs": [],
   "source": [
    "from keras.layers import Activation"
   ]
  },
  {
   "cell_type": "markdown",
   "metadata": {},
   "source": [
    "#### Load Data"
   ]
  },
  {
   "cell_type": "code",
   "execution_count": 539,
   "metadata": {},
   "outputs": [],
   "source": [
    "import pandas as pd\n",
    "first500=pd.read_json('500data.json',lines=True)"
   ]
  },
  {
   "cell_type": "code",
   "execution_count": 540,
   "metadata": {},
   "outputs": [],
   "source": [
    "data=first500[['summary','overall']]"
   ]
  },
  {
   "cell_type": "code",
   "execution_count": 541,
   "metadata": {},
   "outputs": [
    {
     "data": {
      "text/html": [
       "<div>\n",
       "<style scoped>\n",
       "    .dataframe tbody tr th:only-of-type {\n",
       "        vertical-align: middle;\n",
       "    }\n",
       "\n",
       "    .dataframe tbody tr th {\n",
       "        vertical-align: top;\n",
       "    }\n",
       "\n",
       "    .dataframe thead th {\n",
       "        text-align: right;\n",
       "    }\n",
       "</style>\n",
       "<table border=\"1\" class=\"dataframe\">\n",
       "  <thead>\n",
       "    <tr style=\"text-align: right;\">\n",
       "      <th></th>\n",
       "      <th>summary</th>\n",
       "      <th>overall</th>\n",
       "    </tr>\n",
       "  </thead>\n",
       "  <tbody>\n",
       "    <tr>\n",
       "      <th>0</th>\n",
       "      <td>Gotta have GPS!</td>\n",
       "      <td>5</td>\n",
       "    </tr>\n",
       "    <tr>\n",
       "      <th>1</th>\n",
       "      <td>Very Disappointed</td>\n",
       "      <td>1</td>\n",
       "    </tr>\n",
       "    <tr>\n",
       "      <th>2</th>\n",
       "      <td>1st impression</td>\n",
       "      <td>3</td>\n",
       "    </tr>\n",
       "    <tr>\n",
       "      <th>3</th>\n",
       "      <td>Great grafics, POOR GPS</td>\n",
       "      <td>2</td>\n",
       "    </tr>\n",
       "    <tr>\n",
       "      <th>4</th>\n",
       "      <td>Major issues, only excuses for support</td>\n",
       "      <td>1</td>\n",
       "    </tr>\n",
       "  </tbody>\n",
       "</table>\n",
       "</div>"
      ],
      "text/plain": [
       "                                  summary  overall\n",
       "0                         Gotta have GPS!        5\n",
       "1                       Very Disappointed        1\n",
       "2                          1st impression        3\n",
       "3                 Great grafics, POOR GPS        2\n",
       "4  Major issues, only excuses for support        1"
      ]
     },
     "execution_count": 541,
     "metadata": {},
     "output_type": "execute_result"
    }
   ],
   "source": [
    "data.head()"
   ]
  },
  {
   "cell_type": "code",
   "execution_count": 542,
   "metadata": {},
   "outputs": [],
   "source": [
    "data['sentiment']= ['Positive' if x>=3 else 'Negative' for x in data['overall']]"
   ]
  },
  {
   "cell_type": "code",
   "execution_count": 543,
   "metadata": {},
   "outputs": [],
   "source": [
    "#function for tokenizing summary\n",
    "regEx = re.compile('[^a-z]+')\n",
    "def cleanReviews(summary):\n",
    "    summary = summary.lower()\n",
    "    summary = regEx.sub(' ', summary).strip()\n",
    "    return summary"
   ]
  },
  {
   "cell_type": "code",
   "execution_count": 544,
   "metadata": {},
   "outputs": [],
   "source": [
    "data[\"summaryClean\"] = data[\"summary\"].apply(cleanReviews)"
   ]
  },
  {
   "cell_type": "code",
   "execution_count": 545,
   "metadata": {},
   "outputs": [
    {
     "data": {
      "text/html": [
       "<div>\n",
       "<style scoped>\n",
       "    .dataframe tbody tr th:only-of-type {\n",
       "        vertical-align: middle;\n",
       "    }\n",
       "\n",
       "    .dataframe tbody tr th {\n",
       "        vertical-align: top;\n",
       "    }\n",
       "\n",
       "    .dataframe thead th {\n",
       "        text-align: right;\n",
       "    }\n",
       "</style>\n",
       "<table border=\"1\" class=\"dataframe\">\n",
       "  <thead>\n",
       "    <tr style=\"text-align: right;\">\n",
       "      <th></th>\n",
       "      <th>summary</th>\n",
       "      <th>overall</th>\n",
       "      <th>sentiment</th>\n",
       "      <th>summaryClean</th>\n",
       "    </tr>\n",
       "  </thead>\n",
       "  <tbody>\n",
       "    <tr>\n",
       "      <th>0</th>\n",
       "      <td>Gotta have GPS!</td>\n",
       "      <td>5</td>\n",
       "      <td>Positive</td>\n",
       "      <td>gotta have gps</td>\n",
       "    </tr>\n",
       "    <tr>\n",
       "      <th>1</th>\n",
       "      <td>Very Disappointed</td>\n",
       "      <td>1</td>\n",
       "      <td>Negative</td>\n",
       "      <td>very disappointed</td>\n",
       "    </tr>\n",
       "    <tr>\n",
       "      <th>2</th>\n",
       "      <td>1st impression</td>\n",
       "      <td>3</td>\n",
       "      <td>Positive</td>\n",
       "      <td>st impression</td>\n",
       "    </tr>\n",
       "    <tr>\n",
       "      <th>3</th>\n",
       "      <td>Great grafics, POOR GPS</td>\n",
       "      <td>2</td>\n",
       "      <td>Negative</td>\n",
       "      <td>great grafics poor gps</td>\n",
       "    </tr>\n",
       "    <tr>\n",
       "      <th>4</th>\n",
       "      <td>Major issues, only excuses for support</td>\n",
       "      <td>1</td>\n",
       "      <td>Negative</td>\n",
       "      <td>major issues only excuses for support</td>\n",
       "    </tr>\n",
       "  </tbody>\n",
       "</table>\n",
       "</div>"
      ],
      "text/plain": [
       "                                  summary  overall sentiment  \\\n",
       "0                         Gotta have GPS!        5  Positive   \n",
       "1                       Very Disappointed        1  Negative   \n",
       "2                          1st impression        3  Positive   \n",
       "3                 Great grafics, POOR GPS        2  Negative   \n",
       "4  Major issues, only excuses for support        1  Negative   \n",
       "\n",
       "                            summaryClean  \n",
       "0                         gotta have gps  \n",
       "1                      very disappointed  \n",
       "2                          st impression  \n",
       "3                 great grafics poor gps  \n",
       "4  major issues only excuses for support  "
      ]
     },
     "execution_count": 545,
     "metadata": {},
     "output_type": "execute_result"
    }
   ],
   "source": [
    "data.head()"
   ]
  },
  {
   "cell_type": "code",
   "execution_count": 546,
   "metadata": {},
   "outputs": [],
   "source": [
    "data['length']=data['summaryClean'].apply(lambda x: len(x.split()))"
   ]
  },
  {
   "cell_type": "code",
   "execution_count": 547,
   "metadata": {},
   "outputs": [
    {
     "data": {
      "text/html": [
       "<div>\n",
       "<style scoped>\n",
       "    .dataframe tbody tr th:only-of-type {\n",
       "        vertical-align: middle;\n",
       "    }\n",
       "\n",
       "    .dataframe tbody tr th {\n",
       "        vertical-align: top;\n",
       "    }\n",
       "\n",
       "    .dataframe thead th {\n",
       "        text-align: right;\n",
       "    }\n",
       "</style>\n",
       "<table border=\"1\" class=\"dataframe\">\n",
       "  <thead>\n",
       "    <tr style=\"text-align: right;\">\n",
       "      <th></th>\n",
       "      <th>summary</th>\n",
       "      <th>overall</th>\n",
       "      <th>sentiment</th>\n",
       "      <th>summaryClean</th>\n",
       "      <th>length</th>\n",
       "    </tr>\n",
       "  </thead>\n",
       "  <tbody>\n",
       "    <tr>\n",
       "      <th>0</th>\n",
       "      <td>Gotta have GPS!</td>\n",
       "      <td>5</td>\n",
       "      <td>Positive</td>\n",
       "      <td>gotta have gps</td>\n",
       "      <td>3</td>\n",
       "    </tr>\n",
       "    <tr>\n",
       "      <th>1</th>\n",
       "      <td>Very Disappointed</td>\n",
       "      <td>1</td>\n",
       "      <td>Negative</td>\n",
       "      <td>very disappointed</td>\n",
       "      <td>2</td>\n",
       "    </tr>\n",
       "    <tr>\n",
       "      <th>2</th>\n",
       "      <td>1st impression</td>\n",
       "      <td>3</td>\n",
       "      <td>Positive</td>\n",
       "      <td>st impression</td>\n",
       "      <td>2</td>\n",
       "    </tr>\n",
       "    <tr>\n",
       "      <th>3</th>\n",
       "      <td>Great grafics, POOR GPS</td>\n",
       "      <td>2</td>\n",
       "      <td>Negative</td>\n",
       "      <td>great grafics poor gps</td>\n",
       "      <td>4</td>\n",
       "    </tr>\n",
       "    <tr>\n",
       "      <th>4</th>\n",
       "      <td>Major issues, only excuses for support</td>\n",
       "      <td>1</td>\n",
       "      <td>Negative</td>\n",
       "      <td>major issues only excuses for support</td>\n",
       "      <td>6</td>\n",
       "    </tr>\n",
       "  </tbody>\n",
       "</table>\n",
       "</div>"
      ],
      "text/plain": [
       "                                  summary  overall sentiment  \\\n",
       "0                         Gotta have GPS!        5  Positive   \n",
       "1                       Very Disappointed        1  Negative   \n",
       "2                          1st impression        3  Positive   \n",
       "3                 Great grafics, POOR GPS        2  Negative   \n",
       "4  Major issues, only excuses for support        1  Negative   \n",
       "\n",
       "                            summaryClean  length  \n",
       "0                         gotta have gps       3  \n",
       "1                      very disappointed       2  \n",
       "2                          st impression       2  \n",
       "3                 great grafics poor gps       4  \n",
       "4  major issues only excuses for support       6  "
      ]
     },
     "execution_count": 547,
     "metadata": {},
     "output_type": "execute_result"
    }
   ],
   "source": [
    "data.head()"
   ]
  },
  {
   "cell_type": "code",
   "execution_count": 548,
   "metadata": {},
   "outputs": [
    {
     "data": {
      "text/plain": [
       "29"
      ]
     },
     "execution_count": 548,
     "metadata": {},
     "output_type": "execute_result"
    }
   ],
   "source": [
    "data['length'].max()"
   ]
  },
  {
   "cell_type": "markdown",
   "metadata": {},
   "source": [
    "#### WordTokenizer"
   ]
  },
  {
   "cell_type": "code",
   "execution_count": 549,
   "metadata": {},
   "outputs": [],
   "source": [
    "#I have considered a rating equal or above 3 as positive and less than 3 as negative.\n",
    "\n",
    "tokenizer = Tokenizer(num_words=2500, lower=True,split=' ')\n",
    "tokenizer.fit_on_texts(data['summaryClean'].values)\n",
    "#print(tokenizer.word_index)  # To see the dictionary\n",
    "X = tokenizer.texts_to_sequences(data['summaryClean'].values)\n",
    "X = pad_sequences(X)\n",
    "Y = pd.get_dummies(data['sentiment']).values\n",
    "X_train, X_valid, Y_train, Y_valid = train_test_split(X,Y, test_size = 0.20, random_state = 36)"
   ]
  },
  {
   "cell_type": "code",
   "execution_count": 550,
   "metadata": {},
   "outputs": [
    {
     "data": {
      "text/plain": [
       "(500000, 29)"
      ]
     },
     "execution_count": 550,
     "metadata": {},
     "output_type": "execute_result"
    }
   ],
   "source": [
    "X.shape"
   ]
  },
  {
   "cell_type": "markdown",
   "metadata": {},
   "source": [
    "### Model"
   ]
  },
  {
   "cell_type": "code",
   "execution_count": 551,
   "metadata": {
    "scrolled": true
   },
   "outputs": [
    {
     "name": "stdout",
     "output_type": "stream",
     "text": [
      "Model: \"sequential_16\"\n",
      "_________________________________________________________________\n",
      "Layer (type)                 Output Shape              Param #   \n",
      "=================================================================\n",
      "embedding_16 (Embedding)     (None, 29, 100)           250000    \n",
      "_________________________________________________________________\n",
      "spatial_dropout1d_16 (Spatia (None, 29, 100)           0         \n",
      "_________________________________________________________________\n",
      "lstm_49 (LSTM)               (None, 29, 100)           80400     \n",
      "_________________________________________________________________\n",
      "lstm_50 (LSTM)               (None, 29, 64)            42240     \n",
      "_________________________________________________________________\n",
      "bidirectional_19 (Bidirectio (None, 64)                24832     \n",
      "_________________________________________________________________\n",
      "dense_15 (Dense)             (None, 2)                 130       \n",
      "=================================================================\n",
      "Total params: 397,602\n",
      "Trainable params: 397,602\n",
      "Non-trainable params: 0\n",
      "_________________________________________________________________\n",
      "None\n"
     ]
    }
   ],
   "source": [
    "tokenizer = Tokenizer(num_words=2500, lower=True,split=' ')\n",
    "tokenizer.fit_on_texts(data['summaryClean'].values)\n",
    "#print(tokenizer.word_index)  # To see the dicstionary\n",
    "X2 = tokenizer.texts_to_sequences(data['summaryClean'].values)\n",
    "X2 = pad_sequences(X2,padding=padding_type)\n",
    "\n",
    "Y2 = pd.get_dummies(data['sentiment']).values\n",
    "from sklearn.model_selection import train_test_split\n",
    "X_train, X_valid, Y_train, Y_valid = train_test_split(X2,Y2, test_size = 0.20, random_state = 36)\n",
    "\n",
    "vocab_size = 5000\n",
    "embedding_dim = 64\n",
    "max_length = 200\n",
    "trunc_type = 'post'\n",
    "padding_type = 'post'\n",
    "oov_tok = '<OOV>'\n",
    "training_portion = .8\n",
    "\n",
    "embed_dim = 100\n",
    "lstm_out = 200\n",
    "batch_size = 32\n",
    "\n",
    "model2 = Sequential()\n",
    "model2.add(Embedding(2500, embed_dim,input_length = X2.shape[1]))\n",
    "model2.add(SpatialDropout1D(0.2))\n",
    "model2.add(LSTM(100, dropout= 0.2, recurrent_dropout = 0.2,return_sequences=True))\n",
    "model2.add(LSTM(64, dropout= 0.2, recurrent_dropout = 0.2,return_sequences=True))\n",
    "model2.add(Bidirectional(LSTM(32,activation='relu')))\n",
    "model2.add(Dense(2,activation='softmax'))\n",
    "model2.compile(loss = 'categorical_crossentropy', optimizer='adam',metrics = ['accuracy'])\n",
    "print(model2.summary())"
   ]
  },
  {
   "cell_type": "code",
   "execution_count": 164,
   "metadata": {},
   "outputs": [
    {
     "name": "stdout",
     "output_type": "stream",
     "text": [
      "Train on 400000 samples, validate on 100000 samples\n",
      "Epoch 1/10\n",
      " - 487s - loss: 0.1992 - accuracy: 0.9226 - val_loss: 0.1859 - val_accuracy: 0.9276\n",
      "Epoch 2/10\n",
      " - 485s - loss: 0.1784 - accuracy: 0.9298 - val_loss: 0.1812 - val_accuracy: 0.9292\n",
      "Epoch 3/10\n",
      " - 485s - loss: 0.1729 - accuracy: 0.9318 - val_loss: 0.1767 - val_accuracy: 0.9299\n",
      "Epoch 4/10\n",
      " - 484s - loss: 0.1736 - accuracy: 0.9333 - val_loss: 0.1781 - val_accuracy: 0.9309\n",
      "Epoch 5/10\n",
      " - 484s - loss: 0.1666 - accuracy: 0.9339 - val_loss: 0.1784 - val_accuracy: 0.9310\n",
      "Epoch 6/10\n",
      " - 484s - loss: 0.1661 - accuracy: 0.9346 - val_loss: 0.1757 - val_accuracy: 0.9308\n",
      "Epoch 7/10\n",
      " - 485s - loss: 0.1629 - accuracy: 0.9357 - val_loss: 0.1756 - val_accuracy: 0.9309\n",
      "Epoch 8/10\n",
      " - 484s - loss: 0.1618 - accuracy: 0.9360 - val_loss: 0.1778 - val_accuracy: 0.9310\n",
      "Epoch 9/10\n",
      " - 485s - loss: 0.1599 - accuracy: 0.9363 - val_loss: 0.1839 - val_accuracy: 0.9284\n",
      "Epoch 10/10\n",
      " - 485s - loss: 0.3023 - accuracy: 0.9370 - val_loss: 0.1755 - val_accuracy: 0.9318\n"
     ]
    }
   ],
   "source": [
    "history_model2 = model2.fit(X_train, Y_train, epochs=10, validation_data=(X_valid,Y_valid), verbose=2)"
   ]
  },
  {
   "cell_type": "markdown",
   "metadata": {},
   "source": [
    "### Model 2 with epochs=2 has been selected and now being trained "
   ]
  },
  {
   "cell_type": "code",
   "execution_count": 552,
   "metadata": {},
   "outputs": [
    {
     "name": "stdout",
     "output_type": "stream",
     "text": [
      "Epoch 1/2\n",
      " - 468s - loss: 0.2004 - accuracy: 0.9215\n",
      "Epoch 2/2\n",
      " - 467s - loss: 0.1811 - accuracy: 0.9298\n"
     ]
    },
    {
     "data": {
      "text/plain": [
       "<keras.callbacks.callbacks.History at 0x7f5670bb63d0>"
      ]
     },
     "execution_count": 552,
     "metadata": {},
     "output_type": "execute_result"
    }
   ],
   "source": [
    "model2.fit(X_train, Y_train, batch_size =batch_size, epochs =2,  verbose = 2)"
   ]
  },
  {
   "cell_type": "code",
   "execution_count": 553,
   "metadata": {},
   "outputs": [
    {
     "name": "stdout",
     "output_type": "stream",
     "text": [
      "loss 0.18293609483122825 and accuracy is 0.9290400147438049\n"
     ]
    }
   ],
   "source": [
    "loss2,acc2=model2.evaluate(X_valid,Y_valid,verbose=2,batch_size=batch_size)\n",
    "print(f\"loss {loss2} and accuracy is {acc2}\")"
   ]
  },
  {
   "cell_type": "markdown",
   "metadata": {},
   "source": [
    "### Testing model2 with Unseen Data of 1.1M"
   ]
  },
  {
   "cell_type": "code",
   "execution_count": 555,
   "metadata": {},
   "outputs": [],
   "source": [
    "unseen=pd.read_json('unseenamazon.json',lines=True)"
   ]
  },
  {
   "cell_type": "code",
   "execution_count": 556,
   "metadata": {},
   "outputs": [],
   "source": [
    "unseen=unseen[['summary','overall']]"
   ]
  },
  {
   "cell_type": "code",
   "execution_count": 557,
   "metadata": {},
   "outputs": [],
   "source": [
    "unseen['sentiment']= ['Positive' if x>=3 else 'Negative' for x in unseen['overall']]"
   ]
  },
  {
   "cell_type": "code",
   "execution_count": 558,
   "metadata": {},
   "outputs": [],
   "source": [
    "unseen[\"summaryClean\"] = unseen[\"summary\"].apply(cleanReviews)"
   ]
  },
  {
   "cell_type": "code",
   "execution_count": 559,
   "metadata": {},
   "outputs": [
    {
     "data": {
      "text/html": [
       "<div>\n",
       "<style scoped>\n",
       "    .dataframe tbody tr th:only-of-type {\n",
       "        vertical-align: middle;\n",
       "    }\n",
       "\n",
       "    .dataframe tbody tr th {\n",
       "        vertical-align: top;\n",
       "    }\n",
       "\n",
       "    .dataframe thead th {\n",
       "        text-align: right;\n",
       "    }\n",
       "</style>\n",
       "<table border=\"1\" class=\"dataframe\">\n",
       "  <thead>\n",
       "    <tr style=\"text-align: right;\">\n",
       "      <th></th>\n",
       "      <th>summary</th>\n",
       "      <th>overall</th>\n",
       "      <th>sentiment</th>\n",
       "      <th>summaryClean</th>\n",
       "    </tr>\n",
       "  </thead>\n",
       "  <tbody>\n",
       "    <tr>\n",
       "      <th>0</th>\n",
       "      <td>Great Case!</td>\n",
       "      <td>5</td>\n",
       "      <td>Positive</td>\n",
       "      <td>great case</td>\n",
       "    </tr>\n",
       "    <tr>\n",
       "      <th>1</th>\n",
       "      <td>Perfectly good for what it is</td>\n",
       "      <td>5</td>\n",
       "      <td>Positive</td>\n",
       "      <td>perfectly good for what it is</td>\n",
       "    </tr>\n",
       "    <tr>\n",
       "      <th>2</th>\n",
       "      <td>Just perfect if you prefer to handle the Kindl...</td>\n",
       "      <td>5</td>\n",
       "      <td>Positive</td>\n",
       "      <td>just perfect if you prefer to handle the kindl...</td>\n",
       "    </tr>\n",
       "    <tr>\n",
       "      <th>3</th>\n",
       "      <td>Just what I wanted and needed for my K2</td>\n",
       "      <td>5</td>\n",
       "      <td>Positive</td>\n",
       "      <td>just what i wanted and needed for my k</td>\n",
       "    </tr>\n",
       "    <tr>\n",
       "      <th>4</th>\n",
       "      <td>Great product</td>\n",
       "      <td>5</td>\n",
       "      <td>Positive</td>\n",
       "      <td>great product</td>\n",
       "    </tr>\n",
       "  </tbody>\n",
       "</table>\n",
       "</div>"
      ],
      "text/plain": [
       "                                             summary  overall sentiment  \\\n",
       "0                                        Great Case!        5  Positive   \n",
       "1                      Perfectly good for what it is        5  Positive   \n",
       "2  Just perfect if you prefer to handle the Kindl...        5  Positive   \n",
       "3            Just what I wanted and needed for my K2        5  Positive   \n",
       "4                                      Great product        5  Positive   \n",
       "\n",
       "                                        summaryClean  \n",
       "0                                         great case  \n",
       "1                      perfectly good for what it is  \n",
       "2  just perfect if you prefer to handle the kindl...  \n",
       "3             just what i wanted and needed for my k  \n",
       "4                                      great product  "
      ]
     },
     "execution_count": 559,
     "metadata": {},
     "output_type": "execute_result"
    }
   ],
   "source": [
    "unseen.head()"
   ]
  },
  {
   "cell_type": "code",
   "execution_count": 560,
   "metadata": {},
   "outputs": [],
   "source": [
    "tokenizer = Tokenizer(num_words=2500, lower=True,split=' ')\n",
    "tokenizer.fit_on_texts(unseen['summaryClean'].values)\n",
    "#print(tokenizer.word_index)  # To see the dictionary\n",
    "X_unseen = tokenizer.texts_to_sequences(unseen['summaryClean'].values)\n",
    "X_unseen = pad_sequences(X_unseen)"
   ]
  },
  {
   "cell_type": "code",
   "execution_count": 561,
   "metadata": {},
   "outputs": [],
   "source": [
    "Y_unseen = pd.get_dummies(unseen['sentiment']).values"
   ]
  },
  {
   "cell_type": "code",
   "execution_count": 562,
   "metadata": {},
   "outputs": [
    {
     "name": "stdout",
     "output_type": "stream",
     "text": [
      "loss 0.4415528351801092 and accuracy is 0.8874545693397522\n"
     ]
    }
   ],
   "source": [
    "loss2,acc2=model2.evaluate(X_unseen,Y_unseen,verbose=2,batch_size=batch_size)\n",
    "print(f\"loss {loss2} and accuracy is {acc2}\")"
   ]
  },
  {
   "cell_type": "code",
   "execution_count": 190,
   "metadata": {},
   "outputs": [
    {
     "data": {
      "image/png": "[encoded data removed]",
      "text/plain": [
       "<Figure size 432x288 with 1 Axes>"
      ]
     },
     "metadata": {
      "needs_background": "light"
     },
     "output_type": "display_data"
    },
    {
     "data": {
      "image/png": "[encoded data removed]",
      "text/plain": [
       "<Figure size 432x288 with 1 Axes>"
      ]
     },
     "metadata": {
      "needs_background": "light"
     },
     "output_type": "display_data"
    }
   ],
   "source": [
    "def plot_graphs(history, string):\n",
    "    plt.plot(history.history[string])\n",
    "    plt.plot(history.history['val_'+string])\n",
    "    plt.xlabel(\"Epochs\")\n",
    "    plt.ylabel(string)\n",
    "    plt.legend([string, 'val_'+string])\n",
    "    plt.show()\n",
    "plot_graphs(history_model2, \"accuracy\")\n",
    "plot_graphs(history_model2, \"loss\")"
   ]
  },
  {
   "cell_type": "code",
   "execution_count": 44,
   "metadata": {},
   "outputs": [],
   "source": []
  },
  {
   "cell_type": "markdown",
   "metadata": {},
   "source": [
    "# 3. Recommenders!! ( Content Based)"
   ]
  },
  {
   "cell_type": "code",
   "execution_count": 165,
   "metadata": {},
   "outputs": [
    {
     "name": "stderr",
     "output_type": "stream",
     "text": [
      "/home/ubuntu/anaconda3/lib/python3.7/site-packages/IPython/core/interactiveshell.py:3063: DtypeWarning: Columns (10) have mixed types.Specify dtype option on import or set low_memory=False.\n",
      "  interactivity=interactivity, compiler=compiler, result=result)\n"
     ]
    },
    {
     "data": {
      "text/html": [
       "<div>\n",
       "<style scoped>\n",
       "    .dataframe tbody tr th:only-of-type {\n",
       "        vertical-align: middle;\n",
       "    }\n",
       "\n",
       "    .dataframe tbody tr th {\n",
       "        vertical-align: top;\n",
       "    }\n",
       "\n",
       "    .dataframe thead th {\n",
       "        text-align: right;\n",
       "    }\n",
       "</style>\n",
       "<table border=\"1\" class=\"dataframe\">\n",
       "  <thead>\n",
       "    <tr style=\"text-align: right;\">\n",
       "      <th></th>\n",
       "      <th>Unnamed: 0</th>\n",
       "      <th>also_buy</th>\n",
       "      <th>also_view</th>\n",
       "      <th>asin</th>\n",
       "      <th>brand</th>\n",
       "      <th>category</th>\n",
       "      <th>date</th>\n",
       "      <th>description</th>\n",
       "      <th>details</th>\n",
       "      <th>feature</th>\n",
       "      <th>fit</th>\n",
       "      <th>image</th>\n",
       "      <th>main_cat</th>\n",
       "      <th>price</th>\n",
       "      <th>rank</th>\n",
       "      <th>similar_item</th>\n",
       "      <th>tech1</th>\n",
       "      <th>tech2</th>\n",
       "      <th>title</th>\n",
       "    </tr>\n",
       "  </thead>\n",
       "  <tbody>\n",
       "    <tr>\n",
       "      <th>0</th>\n",
       "      <td>40</td>\n",
       "      <td>NaN</td>\n",
       "      <td>['B00RVGXZBM', 'B00N58RZ34', 'B07FKR7VZ4', 'B0...</td>\n",
       "      <td>0528881469</td>\n",
       "      <td>Rand McNally</td>\n",
       "      <td>['Electronics', 'GPS, Finders &amp; Accessories', ...</td>\n",
       "      <td>April 15, 2010</td>\n",
       "      <td>['**** Shipped by 2-3 DAY UNITED STATES PRIORI...</td>\n",
       "      <td>NaN</td>\n",
       "      <td>['Extra large 7-inch high-definition screen', ...</td>\n",
       "      <td>NaN</td>\n",
       "      <td>['https://images-na.ssl-images-amazon.com/imag...</td>\n",
       "      <td>All Electronics</td>\n",
       "      <td>NaN</td>\n",
       "      <td>&gt;#60 in Electronics &gt; GPS &amp; Navigation &gt; Vehic...</td>\n",
       "      <td>NaN</td>\n",
       "      <td>NaN</td>\n",
       "      <td>NaN</td>\n",
       "      <td>Rand McNally 528881469 7-inch Intelliroute TND...</td>\n",
       "    </tr>\n",
       "    <tr>\n",
       "      <th>1</th>\n",
       "      <td>84</td>\n",
       "      <td>NaN</td>\n",
       "      <td>['B00RRFMVEE', 'B01N5F6RNV', '1400699169', 'B0...</td>\n",
       "      <td>0594451647</td>\n",
       "      <td>Barnes &amp;amp; Noble</td>\n",
       "      <td>['Electronics', 'Computers &amp; Accessories', 'Ta...</td>\n",
       "      <td>May 28, 2013</td>\n",
       "      <td>[\"HDTV Adapter Kit for NOOK HD and NOOK HD+\\nT...</td>\n",
       "      <td>NaN</td>\n",
       "      <td>['Connects NOOK to your high-definition televi...</td>\n",
       "      <td>NaN</td>\n",
       "      <td>['https://images-na.ssl-images-amazon.com/imag...</td>\n",
       "      <td>Home Audio &amp; Theater</td>\n",
       "      <td>$1.46</td>\n",
       "      <td>['&gt;#1,708 in Computers &amp; Accessories &gt; Tablet ...</td>\n",
       "      <td>[{'asin': '', 'href': '', 'name': 'Barnes &amp; No...</td>\n",
       "      <td>NaN</td>\n",
       "      <td>NaN</td>\n",
       "      <td>Barnes &amp; Noble HDTV Adapter Kit for NOOK HD an...</td>\n",
       "    </tr>\n",
       "    <tr>\n",
       "      <th>2</th>\n",
       "      <td>201</td>\n",
       "      <td>['B000WYVBR0', 'B003O1UYHG', 'B002YV4WJS', 'B0...</td>\n",
       "      <td>NaN</td>\n",
       "      <td>0972683275</td>\n",
       "      <td>VideoSecu</td>\n",
       "      <td>['Electronics', 'Accessories &amp; Supplies', 'Aud...</td>\n",
       "      <td>February 25, 2007</td>\n",
       "      <td>['The videosecu TV mount is a mounting solutio...</td>\n",
       "      <td>NaN</td>\n",
       "      <td>['Fits most 22\" to 47\" HDTV and some up to 55\"...</td>\n",
       "      <td>NaN</td>\n",
       "      <td>['https://images-na.ssl-images-amazon.com/imag...</td>\n",
       "      <td>All Electronics</td>\n",
       "      <td>$34.99</td>\n",
       "      <td>&gt;#176 in Electronics &gt; Accessories &amp; Supplies ...</td>\n",
       "      <td>[{'asin': '', 'href': '', 'name': 'VideoSecu 2...</td>\n",
       "      <td>NaN</td>\n",
       "      <td>NaN</td>\n",
       "      <td>VideoSecu 24\" Long Arm TV Wall Mount Low Profi...</td>\n",
       "    </tr>\n",
       "    <tr>\n",
       "      <th>3</th>\n",
       "      <td>461</td>\n",
       "      <td>NaN</td>\n",
       "      <td>['B077Y84B2C', '140053271X', '1400532655', 'B0...</td>\n",
       "      <td>1400599997</td>\n",
       "      <td>Barnes &amp;amp; Noble</td>\n",
       "      <td>['Electronics', 'eBook Readers &amp; Accessories',...</td>\n",
       "      <td>November 25, 2009</td>\n",
       "      <td>['Choose an eBook using the beautiful color to...</td>\n",
       "      <td>NaN</td>\n",
       "      <td>['Barnes &amp; Noble brand ebook reader: Nook', 'E...</td>\n",
       "      <td>NaN</td>\n",
       "      <td>['https://images-na.ssl-images-amazon.com/imag...</td>\n",
       "      <td>All Electronics</td>\n",
       "      <td>NaN</td>\n",
       "      <td>&gt;#41,296 in Electronics (See Top 100 in Electr...</td>\n",
       "      <td>[{'asin': '', 'href': '', 'name': 'Barnes &amp; No...</td>\n",
       "      <td>NaN</td>\n",
       "      <td>NaN</td>\n",
       "      <td>Barnes &amp; Noble NOOK ebook reader (WiFi + 3G)[B&amp;W]</td>\n",
       "    </tr>\n",
       "    <tr>\n",
       "      <th>4</th>\n",
       "      <td>463</td>\n",
       "      <td>['B016F1SVVM', '1616855711', 'B00KBPQHMO', '16...</td>\n",
       "      <td>['B077Y84B2C', '1400501717', 'B00L89V1AA', 'B0...</td>\n",
       "      <td>140053271X</td>\n",
       "      <td>Barnes &amp;amp; Noble</td>\n",
       "      <td>['Electronics', 'eBook Readers &amp; Accessories',...</td>\n",
       "      <td>June 3, 2011</td>\n",
       "      <td>[\"The NOOK Simple Touch eReader allows you to ...</td>\n",
       "      <td>NaN</td>\n",
       "      <td>['Box Content - eReader, microUSB Cable, Start...</td>\n",
       "      <td>NaN</td>\n",
       "      <td>['https://images-na.ssl-images-amazon.com/imag...</td>\n",
       "      <td>Home Audio &amp; Theater</td>\n",
       "      <td>NaN</td>\n",
       "      <td>&gt;#58,105 in Electronics (See Top 100 in Electr...</td>\n",
       "      <td>[{'asin': '', 'href': '', 'name': 'Barnes &amp; No...</td>\n",
       "      <td>NaN</td>\n",
       "      <td>NaN</td>\n",
       "      <td>Barnes &amp; Noble Nook Simple Touch eBook Reader ...</td>\n",
       "    </tr>\n",
       "  </tbody>\n",
       "</table>\n",
       "</div>"
      ],
      "text/plain": [
       "   Unnamed: 0                                           also_buy  \\\n",
       "0          40                                                NaN   \n",
       "1          84                                                NaN   \n",
       "2         201  ['B000WYVBR0', 'B003O1UYHG', 'B002YV4WJS', 'B0...   \n",
       "3         461                                                NaN   \n",
       "4         463  ['B016F1SVVM', '1616855711', 'B00KBPQHMO', '16...   \n",
       "\n",
       "                                           also_view        asin  \\\n",
       "0  ['B00RVGXZBM', 'B00N58RZ34', 'B07FKR7VZ4', 'B0...  0528881469   \n",
       "1  ['B00RRFMVEE', 'B01N5F6RNV', '1400699169', 'B0...  0594451647   \n",
       "2                                                NaN  0972683275   \n",
       "3  ['B077Y84B2C', '140053271X', '1400532655', 'B0...  1400599997   \n",
       "4  ['B077Y84B2C', '1400501717', 'B00L89V1AA', 'B0...  140053271X   \n",
       "\n",
       "                brand                                           category  \\\n",
       "0        Rand McNally  ['Electronics', 'GPS, Finders & Accessories', ...   \n",
       "1  Barnes &amp; Noble  ['Electronics', 'Computers & Accessories', 'Ta...   \n",
       "2           VideoSecu  ['Electronics', 'Accessories & Supplies', 'Aud...   \n",
       "3  Barnes &amp; Noble  ['Electronics', 'eBook Readers & Accessories',...   \n",
       "4  Barnes &amp; Noble  ['Electronics', 'eBook Readers & Accessories',...   \n",
       "\n",
       "                date                                        description  \\\n",
       "0     April 15, 2010  ['**** Shipped by 2-3 DAY UNITED STATES PRIORI...   \n",
       "1       May 28, 2013  [\"HDTV Adapter Kit for NOOK HD and NOOK HD+\\nT...   \n",
       "2  February 25, 2007  ['The videosecu TV mount is a mounting solutio...   \n",
       "3  November 25, 2009  ['Choose an eBook using the beautiful color to...   \n",
       "4       June 3, 2011  [\"The NOOK Simple Touch eReader allows you to ...   \n",
       "\n",
       "  details                                            feature  fit  \\\n",
       "0     NaN  ['Extra large 7-inch high-definition screen', ...  NaN   \n",
       "1     NaN  ['Connects NOOK to your high-definition televi...  NaN   \n",
       "2     NaN  ['Fits most 22\" to 47\" HDTV and some up to 55\"...  NaN   \n",
       "3     NaN  ['Barnes & Noble brand ebook reader: Nook', 'E...  NaN   \n",
       "4     NaN  ['Box Content - eReader, microUSB Cable, Start...  NaN   \n",
       "\n",
       "                                               image              main_cat  \\\n",
       "0  ['https://images-na.ssl-images-amazon.com/imag...       All Electronics   \n",
       "1  ['https://images-na.ssl-images-amazon.com/imag...  Home Audio & Theater   \n",
       "2  ['https://images-na.ssl-images-amazon.com/imag...       All Electronics   \n",
       "3  ['https://images-na.ssl-images-amazon.com/imag...       All Electronics   \n",
       "4  ['https://images-na.ssl-images-amazon.com/imag...  Home Audio & Theater   \n",
       "\n",
       "    price                                               rank  \\\n",
       "0     NaN  >#60 in Electronics > GPS & Navigation > Vehic...   \n",
       "1   $1.46  ['>#1,708 in Computers & Accessories > Tablet ...   \n",
       "2  $34.99  >#176 in Electronics > Accessories & Supplies ...   \n",
       "3     NaN  >#41,296 in Electronics (See Top 100 in Electr...   \n",
       "4     NaN  >#58,105 in Electronics (See Top 100 in Electr...   \n",
       "\n",
       "                                        similar_item tech1 tech2  \\\n",
       "0                                                NaN   NaN   NaN   \n",
       "1  [{'asin': '', 'href': '', 'name': 'Barnes & No...   NaN   NaN   \n",
       "2  [{'asin': '', 'href': '', 'name': 'VideoSecu 2...   NaN   NaN   \n",
       "3  [{'asin': '', 'href': '', 'name': 'Barnes & No...   NaN   NaN   \n",
       "4  [{'asin': '', 'href': '', 'name': 'Barnes & No...   NaN   NaN   \n",
       "\n",
       "                                               title  \n",
       "0  Rand McNally 528881469 7-inch Intelliroute TND...  \n",
       "1  Barnes & Noble HDTV Adapter Kit for NOOK HD an...  \n",
       "2  VideoSecu 24\" Long Arm TV Wall Mount Low Profi...  \n",
       "3  Barnes & Noble NOOK ebook reader (WiFi + 3G)[B&W]  \n",
       "4  Barnes & Noble Nook Simple Touch eBook Reader ...  "
      ]
     },
     "execution_count": 165,
     "metadata": {},
     "output_type": "execute_result"
    }
   ],
   "source": [
    "required_metadata=pd.read_csv('required_metadata_amazon.csv')\n",
    "required_metadata.head()"
   ]
  },
  {
   "cell_type": "code",
   "execution_count": 212,
   "metadata": {},
   "outputs": [
    {
     "data": {
      "text/plain": [
       "(44241, 19)"
      ]
     },
     "execution_count": 212,
     "metadata": {},
     "output_type": "execute_result"
    }
   ],
   "source": [
    "required_metadata.shape"
   ]
  },
  {
   "cell_type": "code",
   "execution_count": 213,
   "metadata": {},
   "outputs": [
    {
     "name": "stdout",
     "output_type": "stream",
     "text": [
      "<class 'pandas.core.frame.DataFrame'>\n",
      "RangeIndex: 44241 entries, 0 to 44240\n",
      "Data columns (total 19 columns):\n",
      " #   Column        Non-Null Count  Dtype \n",
      "---  ------        --------------  ----- \n",
      " 0   Unnamed: 0    44241 non-null  int64 \n",
      " 1   also_buy      8885 non-null   object\n",
      " 2   also_view     23766 non-null  object\n",
      " 3   asin          44241 non-null  object\n",
      " 4   brand         44158 non-null  object\n",
      " 5   category      44241 non-null  object\n",
      " 6   date          40046 non-null  object\n",
      " 7   description   41659 non-null  object\n",
      " 8   details       1063 non-null   object\n",
      " 9   feature       41046 non-null  object\n",
      " 10  fit           3 non-null      object\n",
      " 11  image         30433 non-null  object\n",
      " 12  main_cat      44196 non-null  object\n",
      " 13  price         18413 non-null  object\n",
      " 14  rank          43417 non-null  object\n",
      " 15  similar_item  23646 non-null  object\n",
      " 16  tech1         10012 non-null  object\n",
      " 17  tech2         3978 non-null   object\n",
      " 18  title         44241 non-null  object\n",
      "dtypes: int64(1), object(18)\n",
      "memory usage: 6.4+ MB\n"
     ]
    }
   ],
   "source": [
    "required_metadata.info()"
   ]
  },
  {
   "cell_type": "code",
   "execution_count": 167,
   "metadata": {},
   "outputs": [],
   "source": [
    "#Select required columns\n",
    "meta=required_metadata[['asin','title','feature']]"
   ]
  },
  {
   "cell_type": "code",
   "execution_count": 169,
   "metadata": {},
   "outputs": [
    {
     "data": {
      "text/html": [
       "<div>\n",
       "<style scoped>\n",
       "    .dataframe tbody tr th:only-of-type {\n",
       "        vertical-align: middle;\n",
       "    }\n",
       "\n",
       "    .dataframe tbody tr th {\n",
       "        vertical-align: top;\n",
       "    }\n",
       "\n",
       "    .dataframe thead th {\n",
       "        text-align: right;\n",
       "    }\n",
       "</style>\n",
       "<table border=\"1\" class=\"dataframe\">\n",
       "  <thead>\n",
       "    <tr style=\"text-align: right;\">\n",
       "      <th></th>\n",
       "      <th>asin</th>\n",
       "      <th>title</th>\n",
       "      <th>feature</th>\n",
       "    </tr>\n",
       "  </thead>\n",
       "  <tbody>\n",
       "    <tr>\n",
       "      <th>0</th>\n",
       "      <td>0528881469</td>\n",
       "      <td>Rand McNally 528881469 7-inch Intelliroute TND...</td>\n",
       "      <td>['Extra large 7-inch high-definition screen', ...</td>\n",
       "    </tr>\n",
       "    <tr>\n",
       "      <th>1</th>\n",
       "      <td>0594451647</td>\n",
       "      <td>Barnes &amp; Noble HDTV Adapter Kit for NOOK HD an...</td>\n",
       "      <td>['Connects NOOK to your high-definition televi...</td>\n",
       "    </tr>\n",
       "    <tr>\n",
       "      <th>2</th>\n",
       "      <td>0972683275</td>\n",
       "      <td>VideoSecu 24\" Long Arm TV Wall Mount Low Profi...</td>\n",
       "      <td>['Fits most 22\" to 47\" HDTV and some up to 55\"...</td>\n",
       "    </tr>\n",
       "    <tr>\n",
       "      <th>3</th>\n",
       "      <td>1400599997</td>\n",
       "      <td>Barnes &amp; Noble NOOK ebook reader (WiFi + 3G)[B&amp;W]</td>\n",
       "      <td>['Barnes &amp; Noble brand ebook reader: Nook', 'E...</td>\n",
       "    </tr>\n",
       "    <tr>\n",
       "      <th>4</th>\n",
       "      <td>140053271X</td>\n",
       "      <td>Barnes &amp; Noble Nook Simple Touch eBook Reader ...</td>\n",
       "      <td>['Box Content - eReader, microUSB Cable, Start...</td>\n",
       "    </tr>\n",
       "  </tbody>\n",
       "</table>\n",
       "</div>"
      ],
      "text/plain": [
       "         asin                                              title  \\\n",
       "0  0528881469  Rand McNally 528881469 7-inch Intelliroute TND...   \n",
       "1  0594451647  Barnes & Noble HDTV Adapter Kit for NOOK HD an...   \n",
       "2  0972683275  VideoSecu 24\" Long Arm TV Wall Mount Low Profi...   \n",
       "3  1400599997  Barnes & Noble NOOK ebook reader (WiFi + 3G)[B&W]   \n",
       "4  140053271X  Barnes & Noble Nook Simple Touch eBook Reader ...   \n",
       "\n",
       "                                             feature  \n",
       "0  ['Extra large 7-inch high-definition screen', ...  \n",
       "1  ['Connects NOOK to your high-definition televi...  \n",
       "2  ['Fits most 22\" to 47\" HDTV and some up to 55\"...  \n",
       "3  ['Barnes & Noble brand ebook reader: Nook', 'E...  \n",
       "4  ['Box Content - eReader, microUSB Cable, Start...  "
      ]
     },
     "execution_count": 169,
     "metadata": {},
     "output_type": "execute_result"
    }
   ],
   "source": [
    "meta.head()"
   ]
  },
  {
   "cell_type": "code",
   "execution_count": 182,
   "metadata": {},
   "outputs": [
    {
     "name": "stderr",
     "output_type": "stream",
     "text": [
      "/home/ubuntu/anaconda3/lib/python3.7/site-packages/ipykernel_launcher.py:6: SettingWithCopyWarning: \n",
      "A value is trying to be set on a copy of a slice from a DataFrame.\n",
      "Try using .loc[row_indexer,col_indexer] = value instead\n",
      "\n",
      "See the caveats in the documentation: https://pandas.pydata.org/pandas-docs/stable/user_guide/indexing.html#returning-a-view-versus-a-copy\n",
      "  \n"
     ]
    }
   ],
   "source": [
    "#Make feature column of type string\n",
    "meta['feature']=meta['feature'].astype('str')\n"
   ]
  },
  {
   "cell_type": "code",
   "execution_count": 215,
   "metadata": {},
   "outputs": [
    {
     "data": {
      "text/html": [
       "<div>\n",
       "<style scoped>\n",
       "    .dataframe tbody tr th:only-of-type {\n",
       "        vertical-align: middle;\n",
       "    }\n",
       "\n",
       "    .dataframe tbody tr th {\n",
       "        vertical-align: top;\n",
       "    }\n",
       "\n",
       "    .dataframe thead th {\n",
       "        text-align: right;\n",
       "    }\n",
       "</style>\n",
       "<table border=\"1\" class=\"dataframe\">\n",
       "  <thead>\n",
       "    <tr style=\"text-align: right;\">\n",
       "      <th></th>\n",
       "      <th>asin</th>\n",
       "      <th>title</th>\n",
       "      <th>feature</th>\n",
       "    </tr>\n",
       "  </thead>\n",
       "  <tbody>\n",
       "    <tr>\n",
       "      <th>0</th>\n",
       "      <td>0528881469</td>\n",
       "      <td>Rand McNally 528881469 7-inch Intelliroute TND...</td>\n",
       "      <td>['Extra large 7-inch high-definition screen', ...</td>\n",
       "    </tr>\n",
       "    <tr>\n",
       "      <th>1</th>\n",
       "      <td>0594451647</td>\n",
       "      <td>Barnes &amp; Noble HDTV Adapter Kit for NOOK HD an...</td>\n",
       "      <td>['Connects NOOK to your high-definition televi...</td>\n",
       "    </tr>\n",
       "    <tr>\n",
       "      <th>2</th>\n",
       "      <td>0972683275</td>\n",
       "      <td>VideoSecu 24\" Long Arm TV Wall Mount Low Profi...</td>\n",
       "      <td>['Fits most 22\" to 47\" HDTV and some up to 55\"...</td>\n",
       "    </tr>\n",
       "    <tr>\n",
       "      <th>3</th>\n",
       "      <td>1400599997</td>\n",
       "      <td>Barnes &amp; Noble NOOK ebook reader (WiFi + 3G)[B&amp;W]</td>\n",
       "      <td>['Barnes &amp; Noble brand ebook reader: Nook', 'E...</td>\n",
       "    </tr>\n",
       "    <tr>\n",
       "      <th>4</th>\n",
       "      <td>140053271X</td>\n",
       "      <td>Barnes &amp; Noble Nook Simple Touch eBook Reader ...</td>\n",
       "      <td>['Box Content - eReader, microUSB Cable, Start...</td>\n",
       "    </tr>\n",
       "  </tbody>\n",
       "</table>\n",
       "</div>"
      ],
      "text/plain": [
       "         asin                                              title  \\\n",
       "0  0528881469  Rand McNally 528881469 7-inch Intelliroute TND...   \n",
       "1  0594451647  Barnes & Noble HDTV Adapter Kit for NOOK HD an...   \n",
       "2  0972683275  VideoSecu 24\" Long Arm TV Wall Mount Low Profi...   \n",
       "3  1400599997  Barnes & Noble NOOK ebook reader (WiFi + 3G)[B&W]   \n",
       "4  140053271X  Barnes & Noble Nook Simple Touch eBook Reader ...   \n",
       "\n",
       "                                             feature  \n",
       "0  ['Extra large 7-inch high-definition screen', ...  \n",
       "1  ['Connects NOOK to your high-definition televi...  \n",
       "2  ['Fits most 22\" to 47\" HDTV and some up to 55\"...  \n",
       "3  ['Barnes & Noble brand ebook reader: Nook', 'E...  \n",
       "4  ['Box Content - eReader, microUSB Cable, Start...  "
      ]
     },
     "execution_count": 215,
     "metadata": {},
     "output_type": "execute_result"
    }
   ],
   "source": [
    "meta.head()"
   ]
  },
  {
   "cell_type": "code",
   "execution_count": 187,
   "metadata": {},
   "outputs": [],
   "source": [
    "# import require library\n",
    "from sklearn.feature_extraction.text import TfidfVectorizer"
   ]
  },
  {
   "cell_type": "code",
   "execution_count": 188,
   "metadata": {},
   "outputs": [],
   "source": [
    "#create an instance of the TfidfVectorizer\n",
    "tvf=TfidfVectorizer(min_df=3,strip_accents='unicode',analyzer='word',ngram_range=(1,3))"
   ]
  },
  {
   "cell_type": "code",
   "execution_count": null,
   "metadata": {},
   "outputs": [],
   "source": [
    "#fill any Nan values in feature item\n",
    "meta['feature']=meta['feature'].fillna('')"
   ]
  },
  {
   "cell_type": "code",
   "execution_count": 189,
   "metadata": {},
   "outputs": [],
   "source": [
    "#tvf matrix for features of different products\n",
    "tvf_matrix=tvf.fit_transform(meta['feature'])"
   ]
  },
  {
   "cell_type": "code",
   "execution_count": 190,
   "metadata": {},
   "outputs": [
    {
     "data": {
      "text/plain": [
       "(44241, 281161)"
      ]
     },
     "execution_count": 190,
     "metadata": {},
     "output_type": "execute_result"
    }
   ],
   "source": [
    "tvf_matrix.shape"
   ]
  },
  {
   "cell_type": "code",
   "execution_count": 193,
   "metadata": {},
   "outputs": [],
   "source": [
    "#import sigmoid kernel for similarity matrix between products\n",
    "from sklearn.metrics.pairwise import sigmoid_kernel"
   ]
  },
  {
   "cell_type": "code",
   "execution_count": 194,
   "metadata": {},
   "outputs": [],
   "source": [
    "#create similarity matrix\n",
    "sig=sigmoid_kernel(tvf_matrix,tvf_matrix)"
   ]
  },
  {
   "cell_type": "code",
   "execution_count": 195,
   "metadata": {},
   "outputs": [
    {
     "data": {
      "text/plain": [
       "array([0.76159565, 0.76159421, 0.76159417, ..., 0.76159417, 0.76159417,\n",
       "       0.76159417])"
      ]
     },
     "execution_count": 195,
     "metadata": {},
     "output_type": "execute_result"
    }
   ],
   "source": [
    "#checking first product similarity with others\n",
    "sig[0]"
   ]
  },
  {
   "cell_type": "code",
   "execution_count": 196,
   "metadata": {},
   "outputs": [],
   "source": [
    "#creating a series to keep track of the titles of the products.\n",
    "indices=pd.Series(meta.index,index=meta['title'])"
   ]
  },
  {
   "cell_type": "code",
   "execution_count": 205,
   "metadata": {},
   "outputs": [
    {
     "name": "stdout",
     "output_type": "stream",
     "text": [
      "title\n",
      "Rand McNally 528881469 7-inch Intelliroute TND 700 Truck GPS                                                                                                                                                0\n",
      "Barnes & Noble HDTV Adapter Kit for NOOK HD and NOOK HD+                                                                                                                                                    1\n",
      "VideoSecu 24\" Long Arm TV Wall Mount Low Profile Articulating Full Motion Cantilever Swing Tilt wall bracket for most 22\" to 55\" LED LCD TV Monitor Flat Screen VESA 200x200 400x400 up to 600x400mm MAH    2\n",
      "Barnes & Noble NOOK ebook reader (WiFi + 3G)[B&W]                                                                                                                                                           3\n",
      "dtype: int64 \n",
      "\n"
     ]
    }
   ],
   "source": [
    "#testing\n",
    "print(indices[:4],'\\n')"
   ]
  },
  {
   "cell_type": "markdown",
   "metadata": {},
   "source": [
    "### Gives recommendation on any clicked product"
   ]
  },
  {
   "cell_type": "code",
   "execution_count": 209,
   "metadata": {},
   "outputs": [],
   "source": [
    "#Function that gives recommendation based on similarity of features.\n",
    "def give_recommendation (title,sig=sig):\n",
    "    \n",
    "    #get the index of the product (title) from indices series\n",
    "    idx=indices[title]\n",
    "    \n",
    "    #Look for this index in sig similarity matrix\n",
    "    sig_score=list(enumerate(sig[idx]))\n",
    "    \n",
    "    #sort the obtained row for most related product on top\n",
    "    sig_score=sorted(sig_score,key=lambda x: x[1],reverse=True)\n",
    "    \n",
    "    #Get top 5 products information\n",
    "    sig_score=sig_score[1:6]\n",
    "    \n",
    "    #get the list of indices with first column of sig_score\n",
    "    product_idx=[i[0] for i in sig_score]\n",
    "    \n",
    "    #put this list in the main dataset to get the titles of most similar products.\n",
    "    return meta['title'].iloc[product_idx]"
   ]
  },
  {
   "cell_type": "code",
   "execution_count": 210,
   "metadata": {},
   "outputs": [
    {
     "data": {
      "text/plain": [
       "34968    Rand McNally TND 720 LM IntelliRoute Truck GPS...\n",
       "37670    Garmin Dezl 760LMT 7-Inch Bluetooth Trucking G...\n",
       "31436    Magellan RoadMate Pro 9165T - 7-Inch GPS Navig...\n",
       "35821    Magellan RoadMate RV9165T-LM 7-Inch RV GPS Nav...\n",
       "35822    Magellan RoadMate RV9145-LM - 7-Inch GPS Navig...\n",
       "Name: title, dtype: object"
      ]
     },
     "execution_count": 210,
     "metadata": {},
     "output_type": "execute_result"
    }
   ],
   "source": [
    "give_recommendation('Rand McNally 528881469 7-inch Intelliroute TND 700 Truck GPS')"
   ]
  },
  {
   "cell_type": "code",
   "execution_count": null,
   "metadata": {},
   "outputs": [],
   "source": []
  },
  {
   "cell_type": "code",
   "execution_count": null,
   "metadata": {},
   "outputs": [],
   "source": []
  },
  {
   "cell_type": "code",
   "execution_count": null,
   "metadata": {},
   "outputs": [],
   "source": []
  },
  {
   "cell_type": "code",
   "execution_count": null,
   "metadata": {},
   "outputs": [],
   "source": []
  },
  {
   "cell_type": "code",
   "execution_count": null,
   "metadata": {},
   "outputs": [],
   "source": []
  }
 ],
 "metadata": {
  "kernelspec": {
   "display_name": "Python 3",
   "language": "python",
   "name": "python3"
  },
  "language_info": {
   "codemirror_mode": {
    "name": "ipython",
    "version": 3
   },
   "file_extension": ".py",
   "mimetype": "text/x-python",
   "name": "python",
   "nbconvert_exporter": "python",
   "pygments_lexer": "ipython3",
   "version": "3.7.7"
  }
 },
 "nbformat": 4,
 "nbformat_minor": 2
}
